{
 "cells": [
  {
   "cell_type": "code",
   "execution_count": 1,
   "metadata": {},
   "outputs": [],
   "source": [
    "import h5py\n",
    "from pod5 import DatasetReader\n",
    "import pyslow5\n",
    "\n",
    "from src.Containers.Fasta import Fasta\n",
    "from src.Containers.FastQ import FastQ\n",
    "from src.Containers.Pod5 import Pod5\n",
    "from src.Containers.Fast5 import Fast5\n",
    "from src.Containers.Blow5 import Blow5\n",
    "from src.Containers.Slow5 import Slow5\n",
    "\n",
    "from src.Containers.ClassifContainer import ClassifContainer\n",
    "from src.WriterSystem.WriterWrapper import WriterWrapper\n",
    "\n",
    "from src.ReaderSystem.ReaderWrapper import ReaderWrapper"
   ]
  },
  {
   "cell_type": "code",
   "execution_count": 3,
   "metadata": {},
   "outputs": [],
   "source": [
    "fasta_0 = ClassifContainer(Fasta('Coli_0', 'AAAAA'), 'E.coli')\n",
    "fasta_1 = ClassifContainer(Fasta('Coli_1', 'ATAAA'), 'E.coli')\n",
    "fasta_2 = ClassifContainer(Fasta('Coli_2', 'AAGAA'), 'E.coli')\n",
    "\n",
    "fasta_3 = ClassifContainer(Fasta('GGAATTT', 'Bacillus_0'), \"Bacillus\")\n",
    "\n",
    "fasta_coll = [fasta_0, fasta_1, fasta_2, fasta_3]\n",
    "\n",
    "with WriterWrapper(False, 2, 'fasta') as oww:\n",
    "    oww.write(fasta_coll)\n",
    "# end with"
   ]
  },
  {
   "cell_type": "code",
   "execution_count": 4,
   "metadata": {
    "scrolled": true
   },
   "outputs": [],
   "source": [
    "fastq_0 = ClassifContainer(FastQ(\"Coli_0\", \"AAAAA\", \"+\", \"!!!!!\"), \"E.coli\")\n",
    "fastq_1 = ClassifContainer(FastQ(\"Coli_1\", \"AAATA\", \"+\", \"!!!!!\"), \"E.coli\")\n",
    "fastq_2 = ClassifContainer(FastQ(\"Coli_2\", \"AAATTT\", \"+\", \"!!!!!!\"), \"E.coli\")\n",
    "\n",
    "fastq_3 = ClassifContainer(FastQ(\"Bacillus_0\", \"GGAATTT\", \"+\", \"!!!!!!!\"), 'B.subtilis')\n",
    "\n",
    "fastq_coll = [fastq_0, fastq_1, fastq_2, fastq_3]\n",
    "\n",
    "with WriterWrapper(False, 2, 'fastq') as oww:\n",
    "    oww.write(fastq_coll)\n",
    "# end with\n",
    "\n"
   ]
  },
  {
   "cell_type": "code",
   "execution_count": 5,
   "metadata": {},
   "outputs": [
    {
     "name": "stderr",
     "output_type": "stream",
     "text": [
      "WARNING:src.Containers.FastQ:Unexpected offset: `34`. Setting offset to 33.\n"
     ]
    },
    {
     "data": {
      "text/plain": [
       "9.923583702678474"
      ]
     },
     "execution_count": 5,
     "metadata": {},
     "output_type": "execute_result"
    }
   ],
   "source": [
    "from src.Containers.FastQ import FastQ\n",
    "\n",
    "fastq = FastQ(\"Coli_0\", \"AAA\", \"+\", \"*+,\", offset = 34)\n",
    "\n",
    "fastq.average_quality()"
   ]
  },
  {
   "cell_type": "code",
   "execution_count": 6,
   "metadata": {},
   "outputs": [],
   "source": [
    "with DatasetReader(\"/home/deynonih/cager/NGS-test-data/for_barapost/FAY62206_04e2939b_50079bd0_18.pod5\") as dataset:\n",
    "    reads = dataset.reads()\n",
    "\n",
    "first = next(reads)\n",
    "second = next(reads)\n",
    "third = next(reads)"
   ]
  },
  {
   "cell_type": "code",
   "execution_count": 10,
   "metadata": {},
   "outputs": [
    {
     "data": {
      "text/plain": [
       "<pod5.reader.ReadRecord at 0x7fef14d64af0>"
      ]
     },
     "execution_count": 10,
     "metadata": {},
     "output_type": "execute_result"
    }
   ],
   "source": [
    "second"
   ]
  },
  {
   "cell_type": "code",
   "execution_count": 11,
   "metadata": {},
   "outputs": [],
   "source": [
    "pod5_0 = ClassifContainer(Pod5(first), 'E.coli')\n",
    "pod5_1 = ClassifContainer(Pod5(second), 'E.coli')\n",
    "pod5_2 = ClassifContainer(Pod5(third), 'E.coli')\n",
    "\n",
    "pod5_3 = ClassifContainer(Pod5(first), \"Bacillus\")\n",
    "\n",
    "fasta_coll = [pod5_0, pod5_1, pod5_2, pod5_3]\n",
    "\n",
    "with WriterWrapper(False, 2, 'pod5') as oww:\n",
    "    oww.write(fasta_coll)\n",
    "# end with"
   ]
  },
  {
   "cell_type": "code",
   "execution_count": 12,
   "metadata": {},
   "outputs": [
    {
     "name": "stderr",
     "output_type": "stream",
     "text": [
      "WARNING:src.WriterSystem.WriterWrapper:Cannot gzip fast5 data. Ignoring output compression.\n"
     ]
    }
   ],
   "source": [
    "out_file_handle = h5py.File('/home/deynonih/cager/NGS-test-data/for_barapost/FAL91692_72e297f8_0.fast5', 'r')\n",
    "\n",
    "fast5_0 = ClassifContainer(Fast5(out_file_handle, 'read_00001da1-4ebb-4ce6-9128-d050d3696fcc'), 'E.coli')\n",
    "fast5_1 = ClassifContainer(Fast5(out_file_handle, 'read_000ab04f-2712-4604-87d5-2f46b6a87895'), 'E.coli')\n",
    "fast5_2 = ClassifContainer(Fast5(out_file_handle, 'read_000eb25f-b049-435f-82f6-1fee4796f0c4'), 'E.coli')\n",
    "\n",
    "fast5_3 = ClassifContainer(Fast5(out_file_handle, 'read_00001da1-4ebb-4ce6-9128-d050d3696fcc'), \"Bacillus\")\n",
    "\n",
    "fasta_coll = [fast5_0, fast5_1, fast5_2, fast5_3]\n",
    "\n",
    "with WriterWrapper(True, 2, 'fast5') as oww:\n",
    "    oww.write(fasta_coll)\n",
    "# end with\n",
    "\n",
    "out_file_handle.close()"
   ]
  },
  {
   "cell_type": "code",
   "execution_count": 3,
   "metadata": {},
   "outputs": [],
   "source": [
    "s5 = pyslow5.Open('/home/deynonih/cager/NGS-test-data/for_barapost/FAY62206_04e2939b_50079bd0_18.blow5', 'r')\n",
    "\n",
    "# print(s5.get_read_ids())\n",
    "\n",
    "first = s5.get_read('c018e0f4-2cf9-4b36-8961-751cc03d8dd5')\n",
    "second = s5.get_read('0082f3c8-8b36-443b-a50a-064918f7e871')\n",
    "third = s5.get_read('34f2315d-1dfc-43cb-a772-c348ab46aa59')\n",
    "\n",
    "blow5_0 = ClassifContainer(Blow5(first), 'E.coli')\n",
    "blow5_1 = ClassifContainer(Blow5(second), 'E.coli')\n",
    "blow5_2 = ClassifContainer(Blow5(third), 'E.coli')\n",
    "\n",
    "blow5_3 = ClassifContainer(Blow5(third), \"Bacillus\")\n",
    "\n",
    "blow5_coll = [blow5_0, blow5_1, blow5_2, blow5_3]\n",
    "\n",
    "with WriterWrapper(False, 2, 'blow5') as oww:\n",
    "    oww.write(blow5_coll)\n",
    "# end with\n",
    "\n",
    "s5.close()"
   ]
  },
  {
   "cell_type": "code",
   "execution_count": 2,
   "metadata": {},
   "outputs": [],
   "source": [
    "s5 = pyslow5.Open('/home/deynonih/cager/NGS-test-data/for_barapost/FAY62206_04e2939b_50079bd0_18.slow5', 'r')\n",
    "\n",
    "# print(s5.get_read_ids())\n",
    "\n",
    "first = s5.get_read('c018e0f4-2cf9-4b36-8961-751cc03d8dd5')\n",
    "second = s5.get_read('0082f3c8-8b36-443b-a50a-064918f7e871')\n",
    "third = s5.get_read('34f2315d-1dfc-43cb-a772-c348ab46aa59')\n",
    "\n",
    "slow5_0 = ClassifContainer(Slow5(first), 'E.coli')\n",
    "slow5_1 = ClassifContainer(Slow5(second), 'E.coli')\n",
    "slow5_2 = ClassifContainer(Slow5(third), 'E.coli')\n",
    "\n",
    "slow5_3 = ClassifContainer(Slow5(third), \"Bacillus\")\n",
    "\n",
    "slow5_coll = [slow5_0, slow5_1, slow5_2, slow5_3]\n",
    "\n",
    "with WriterWrapper(False, 2, 'slow5') as oww:\n",
    "    oww.write(slow5_coll)\n",
    "# end with\n",
    "\n",
    "s5.close()"
   ]
  },
  {
   "cell_type": "code",
   "execution_count": 3,
   "metadata": {},
   "outputs": [
    {
     "name": "stderr",
     "output_type": "stream",
     "text": [
      "WARNING:src.ReaderSystem.ReaderWrapper:Invalid mode: `BOBER`. Setting mode to `seq_count`.\n"
     ]
    }
   ],
   "source": [
    "try:\n",
    "    with ReaderWrapper('/home/deynonih/cager/NGS-test-data/for_barapost/FAY62206_04e2939b_50079bd0_18.blow5', \n",
    "                       packet_size = 1, \n",
    "                       probing_batch_size = -1,\n",
    "                       mode = 'BOBER') as f:\n",
    "        while True:\n",
    "            next(f)\n",
    "            pass\n",
    "        # end while\n",
    "    # end with\n",
    "except StopIteration:\n",
    "    pass\n",
    "# end try"
   ]
  },
  {
   "cell_type": "code",
   "execution_count": null,
   "metadata": {},
   "outputs": [],
   "source": []
  },
  {
   "cell_type": "code",
   "execution_count": 4,
   "metadata": {
    "scrolled": true
   },
   "outputs": [
    {
     "name": "stdout",
     "output_type": "stream",
     "text": [
      "[Fasta(\n",
      "    header='>NODE_1_length_26183_cov_2.977840',\n",
      "    sequence='GACCCGCAGGTCGCGGTCGGCGAACCCGGC../26,123bp/..GTGAAGCTGCTAAAGGTTGTTAGAGATTTG'\n",
      "), Fasta(\n",
      "    header='>NODE_2_length_11992_cov_2.917567',\n",
      "    sequence='TGTAACCTTTAAACTTAAACTCACGTACCA../11,932bp/..AAAGATATCTGGTTTATTGAGGGCAAGGGC'\n",
      "), Fasta(\n",
      "    header='>NODE_3_length_11322_cov_3.701606',\n",
      "    sequence='GCTCGGCATCCGCGGCATGGTGGATGAGGC../11,262bp/..ACCAAGTGCCGCTTCCCTCCGAATGAGCGA'\n",
      "), Fasta(\n",
      "    header='>NODE_4_length_10922_cov_4.052544',\n",
      "    sequence='GCGAGAAACTTGCCAGGATGATGCTTGGAG../10,862bp/..CCCTTTGTTTTCTCATAGACTTGCTGGCAT'\n",
      ")]\n",
      "60419\n",
      "\n",
      "[Fasta(\n",
      "    header='>NODE_5_length_10759_cov_4.271020',\n",
      "    sequence='GCCGGGTCATCGATGCAGTCCTCGGAACCG../10,699bp/..CCGGCGGGAGACGGCGCCGGCCAGGAGCCC'\n",
      "), Fasta(\n",
      "    header='>NODE_6_length_10324_cov_3.083552',\n",
      "    sequence='ATTGCCGGCAGATGCTGCAATGACTCCATG../10,264bp/..GACAAGAGTCAAAGAAAATCTTAAGGAAGT'\n",
      "), Fasta(\n",
      "    header='>NODE_7_length_10236_cov_4.014832',\n",
      "    sequence='GGGGGGGGGCGCCCCCCCCCCCCCGGGGGG../10,176bp/..TCTGGACTCGCTCCGGCCACTTGAGGCGCA'\n",
      "), Fasta(\n",
      "    header='>NODE_8_length_9837_cov_3.083214',\n",
      "    sequence='GGTCAACTCTGACAAGTCGATTGTCTCCTT../9,777bp/..CTGTCGGGATTTGGATAAAAATTTATTTGA'\n",
      "), Fasta(\n",
      "    header='>NODE_9_length_9757_cov_2.920841',\n",
      "    sequence='TTGGCTCAGCTTGGAGGGATTACAGTATTG../9,697bp/..ATCCACAAGATGATTAGCAAACACGCCTAC'\n",
      ")]\n",
      "50913\n",
      "\n",
      "[Fasta(\n",
      "    header='>NODE_10_length_9541_cov_4.230761',\n",
      "    sequence='GCACACGATTACAAGTGAGCAATCCTAGCT../9,481bp/..GCGCGTGCTCGACCTGCTCTCGCGCGAGGA'\n",
      "), Fasta(\n",
      "    header='>NODE_11_length_9450_cov_2.011283',\n",
      "    sequence='TATTTTTTCTATAGTATCTTTACTTGCCTG../9,390bp/..TTTTCTAGATTTCGATTTTTTTTTTTTTGG'\n",
      "), Fasta(\n",
      "    header='>NODE_12_length_9345_cov_2.759096',\n",
      "    sequence='GTCAGCGCGTGGCCGCCGCCCGCCGAATGG../9,285bp/..TTCGCCGCCGGCTAAGCGAGGCGACCGCCG'\n",
      "), Fasta(\n",
      "    header='>NODE_13_length_8924_cov_2.908896',\n",
      "    sequence='GTCACCGAGGATGTCCCGCCCCGCGCGGTG../8,864bp/..CACGTGCAGTCGGAACGAGTCGGGCCCGAA'\n",
      "), Fasta(\n",
      "    header='>NODE_14_length_8588_cov_3.300832',\n",
      "    sequence='TGTGATGTCTCTCTTTGATATGACACAACA../8,528bp/..GCTAGCGCTTACAATTGAGTCACAGAATGC'\n",
      ")]\n",
      "45848\n",
      "\n",
      "[Fasta(\n",
      "    header='>NODE_15_length_8574_cov_3.071839',\n",
      "    sequence='AATTGTAGAGATTCCTACAACTATGGCATC../8,514bp/..TAATTGTAGTACTTTAGCCCAACGTAGCTG'\n",
      "), Fasta(\n",
      "    header='>NODE_16_length_8491_cov_3.022167',\n",
      "    sequence='ATGTGGTTGAGCGAGCACAGTTAACAGAGA../8,431bp/..CTCGTTTAGCAGCTTGTTCAAAAATTCAAA'\n",
      "), Fasta(\n",
      "    header='>NODE_17_length_8469_cov_3.296530',\n",
      "    sequence='CCAGGCACAACCTTGCCGCCAACCCGCAGA../8,409bp/..AGCAGGACCCGGCCGTTCGGGAGGGGGGCT'\n",
      "), Fasta(\n",
      "    header='>NODE_18_length_8388_cov_2.583703',\n",
      "    sequence='GGGCCCCCCCGTGGTTGGGGGGGGGGGGCC../8,328bp/..CGCGGCGAAGGAGCTCGAGCCCCACGAGTT'\n",
      "), Fasta(\n",
      "    header='>NODE_19_length_8384_cov_2.823508',\n",
      "    sequence='CTCATCCATCATGTGGATCTGGAGCGGCAC../8,324bp/..GGGTAGCCCACCCACACGCAGGTGGCGAGC'\n",
      ")]\n",
      "42306\n",
      "\n",
      "[Fasta(\n",
      "    header='>NODE_20_length_8324_cov_2.670456',\n",
      "    sequence='AATCCGGCAGGGAATGGATTTTCTGGTGCC../8,264bp/..AACACACTTTTGATATCTTAAGCTTTTCGA'\n",
      ")]\n",
      "8324\n",
      "\n"
     ]
    }
   ],
   "source": [
    "fasta_test_fpath = '/home/deynonih/cager/NGS-test-data/for_barapost/contigs.fasta.gz'\n",
    "\n",
    "with ReaderWrapper(fasta_test_fpath, mode='sum_seq_len', packet_size=40000, probing_batch_size=20, max_seq_len=10000) as ifh:\n",
    "    for l in ifh:\n",
    "        print(l)\n",
    "        print(sum(map(lambda sr: len(sr.seq), l)))\n",
    "        print()\n",
    "    # end for\n",
    "# end with\n"
   ]
  },
  {
   "cell_type": "code",
   "execution_count": 2,
   "metadata": {
    "scrolled": true
   },
   "outputs": [
    {
     "name": "stdout",
     "output_type": "stream",
     "text": [
      "[FastQ(\n",
      "    header='@711bf04d-20f5-4418-9712-16168ef98999 runid=974c5012fcdcf71c2b20c023400847a3f30c2519 sampleid=no_sample read=6631 ch=90 start_time=2020-12-29T13:37:03Z', \n",
      "    sequence='GTTGTATTAATTCGTGTAATATATGCCTTA../466chars/..ATTGCGTCATAATGCGAATGTCAATGAGCG', \n",
      "    plus_line='+', \n",
      "    quality=\"$$&##$$#$')+*%)$$&&$%#&%%$%%''../466chars/..&%'(-%$$#'$$($#%&''%+(&&',+(*$\"\n",
      "), FastQ(\n",
      "    header='@52a41318-f8b9-4d61-a21f-4a907f107973 runid=974c5012fcdcf71c2b20c023400847a3f30c2519 sampleid=no_sample read=6655 ch=431 start_time=2020-12-29T13:36:59Z', \n",
      "    sequence='GTTGTACTTCGTTCAGTTGCGTATTGCTGC../1,116chars/..CATGGGCGCATATGCGAACAGCCATGTGTG', \n",
      "    plus_line='+', \n",
      "    quality=\"%,/363;<CCCBD;8;=?%('60<@=E::D../1,116chars/..CEA:<B=(7CFDC:<,'%'3%%'---,,),\"\n",
      ")]\n",
      "\n",
      "[FastQ(\n",
      "    header='@62b9dc2d-5462-4c2e-97f2-b8e70c90de50 runid=974c5012fcdcf71c2b20c023400847a3f30c2519 sampleid=no_sample read=6912 ch=247 start_time=2020-12-29T13:36:35Z', \n",
      "    sequence='GTGTACTTCGTTCAGTTACGTATTGCTTAT../6,219chars/..CCTTGACTTTCAAGCTCACCTGAATTTCAA', \n",
      "    plus_line='+', \n",
      "    quality=\"&,-11556.370:8>?DB<9=8:<:788:<../6,219chars/..&##$**&(23101(@@=(,.'$$'&'%'&&\"\n",
      "), FastQ(\n",
      "    header='@05e09586-6d7c-4102-89b5-3256a45f7dcc runid=974c5012fcdcf71c2b20c023400847a3f30c2519 sampleid=no_sample read=9354 ch=72 start_time=2020-12-29T13:36:42Z', \n",
      "    sequence='GTAGCCTTCGTTCGGTGCAACGTAACGCTT../353chars/..ATCACAAGTATCGAGCCAGATCCTGCACGG', \n",
      "    plus_line='+', \n",
      "    quality=\"$$%$%%(),18<2%(2$%$$##$''%$%%+../353chars/..%'%$'&+)434.((/%*546<::;0<43%%\"\n",
      ")]\n",
      "\n",
      "[FastQ(\n",
      "    header='@326bcca5-9870-45d1-886d-2dfe632e262f runid=974c5012fcdcf71c2b20c023400847a3f30c2519 sampleid=no_sample read=6154 ch=496 start_time=2020-12-29T13:36:59Z', \n",
      "    sequence='TTTTCTTCGTTTCAATTTTAAAAACATTGC../2,250chars/..AAGCGTCTGCCCGCCGTGACCGGCCCCGAA', \n",
      "    plus_line='+', \n",
      "    quality=\"&)))''-/1452.$&(--)''&$#(1495:../2,250chars/...))1//)$%-4..87555531'(%'''$%#\"\n",
      "), FastQ(\n",
      "    header='@6ba2fc30-f22e-4273-b4e1-bb03e080aa58 runid=974c5012fcdcf71c2b20c023400847a3f30c2519 sampleid=no_sample read=7821 ch=61 start_time=2020-12-29T13:36:56Z', \n",
      "    sequence='TTACTTCGTTCAGTTACGTATTGCTCAACC../8,428chars/..GTGAGATCCACCGTCTGCTGATCGCGGACA', \n",
      "    plus_line='+', \n",
      "    quality=\"'$$**&068--(698*84433567?D-/=B../8,428chars/..=GDF9=G:<:77<CBF=:543)=+:788/$\"\n",
      ")]\n",
      "\n",
      "[FastQ(\n",
      "    header='@59dca7d6-7bcb-431a-a9a2-5f0d75e4a4c9 runid=974c5012fcdcf71c2b20c023400847a3f30c2519 sampleid=no_sample read=5964 ch=199 start_time=2020-12-29T13:36:47Z', \n",
      "    sequence='AGTGGCCAACCGTTCAGTTACGTATTGCTC../436chars/..GTGGTAGAGCCCGCGGAACTCCCGGGTGCG', \n",
      "    plus_line='+', \n",
      "    quality='&%%$%()$%$%5>B-*AA>?><B?ACBAA6../436chars/..=EC;>;6>5;>@=:DGLHI?FH@=<=9(%&'\n",
      "), FastQ(\n",
      "    header='@75364e25-3bd6-4400-b6d5-e4015929c7c6 runid=974c5012fcdcf71c2b20c023400847a3f30c2519 sampleid=no_sample read=7141 ch=441 start_time=2020-12-29T13:36:43Z', \n",
      "    sequence='ATTATGCGCGTTCAGTTACGTATTGCTCTG../352chars/..CTTCCTTTTGTAAGTCAGCAATTCACCCTA', \n",
      "    plus_line='+', \n",
      "    quality=\"%')'..04:>AJ?;AFC?'6>=>??@E?F?../352chars/..>@G=EKOJ@4(.5?B86;;ACAA?AA=:*$\"\n",
      ")]\n",
      "\n",
      "[FastQ(\n",
      "    header='@c0ea78fa-1c39-4864-a3b9-8e4bf12798f9 runid=974c5012fcdcf71c2b20c023400847a3f30c2519 sampleid=no_sample read=5962 ch=168 start_time=2020-12-29T13:36:39Z', \n",
      "    sequence='GTTCTTAAGATTCGTGCATATGTCATGGTG../578chars/..CAACTAATGGCGAGCCGAAACCGAATGACT', \n",
      "    plus_line='+', \n",
      "    quality=\"'%%%#%()')+-/&3+''%,-+*,###&.2../578chars/..-&,,((&%$$)'+$),,.()'-''&&%'$$\"\n",
      "), FastQ(\n",
      "    header='@b776deeb-49f3-456b-ae69-2e8e2e588b7b runid=974c5012fcdcf71c2b20c023400847a3f30c2519 sampleid=no_sample read=6877 ch=184 start_time=2020-12-29T13:36:40Z', \n",
      "    sequence='GGTATTGCTTCGTTGGTTACGTATTGCTTC../1,621chars/..TGGCAAAAGCGTTTGTAATACGTGGCAACA', \n",
      "    plus_line='+', \n",
      "    quality=\"%'&&'((++*%()(()633<;==?BACGB>../1,621chars/..$')1355)/1'''%$$,+,&,'%##&'&(%\"\n",
      ")]\n",
      "\n"
     ]
    }
   ],
   "source": [
    "fastq_test_fpath = '/home/deynonih/cager/NGS-test-data/for_barapost/fastq_runid_974c5012fcdcf71c2b20c023400847a3f30c2519_118_0.fastq.gz'\n",
    "\n",
    "with ReaderWrapper(fastq_test_fpath, packet_size=2, probing_batch_size=10) as ifh:\n",
    "    for l in ifh:\n",
    "        print(l)\n",
    "        print()\n",
    "    # end for\n",
    "# end with\n"
   ]
  },
  {
   "cell_type": "code",
   "execution_count": 5,
   "metadata": {},
   "outputs": [
    {
     "name": "stdout",
     "output_type": "stream",
     "text": [
      "[Fast5(\n",
      "    file_handle=<HDF5 file \"FAL91692_72e297f8_0.fast5\" (mode r)>,\n",
      "    read_id='read_00001da1-4ebb-4ce6-9128-d050d3696fcc'\n",
      ")]\n",
      "\n",
      "[Fast5(\n",
      "    file_handle=<HDF5 file \"FAL91692_72e297f8_0.fast5\" (mode r)>,\n",
      "    read_id='read_000ab04f-2712-4604-87d5-2f46b6a87895'\n",
      ")]\n",
      "\n",
      "[Fast5(\n",
      "    file_handle=<HDF5 file \"FAL91692_72e297f8_0.fast5\" (mode r)>,\n",
      "    read_id='read_000eb25f-b049-435f-82f6-1fee4796f0c4'\n",
      ")]\n",
      "\n",
      "[Fast5(\n",
      "    file_handle=<HDF5 file \"FAL91692_72e297f8_0.fast5\" (mode r)>,\n",
      "    read_id='read_00275507-50ed-4f59-97e3-a95fecb2fd0b'\n",
      ")]\n",
      "\n",
      "[Fast5(\n",
      "    file_handle=<HDF5 file \"FAL91692_72e297f8_0.fast5\" (mode r)>,\n",
      "    read_id='read_00496e0f-8e9d-44c9-b612-ddd6ec792b4f'\n",
      ")]\n",
      "\n"
     ]
    }
   ],
   "source": [
    "fast5_test_fpath = '/home/deynonih/cager/NGS-test-data/for_barapost/FAL91692_72e297f8_0.fast5'\n",
    "\n",
    "with ReaderWrapper(fast5_test_fpath) as ifh:\n",
    "    for i, l in enumerate(ifh):\n",
    "        print(l)\n",
    "        print()\n",
    "        if i == 4:\n",
    "            break\n",
    "        # end if\n",
    "    # end for\n",
    "# end with\n"
   ]
  },
  {
   "cell_type": "code",
   "execution_count": 6,
   "metadata": {},
   "outputs": [
    {
     "ename": "KeyboardInterrupt",
     "evalue": "",
     "output_type": "error",
     "traceback": [
      "\u001b[0;31m---------------------------------------------------------------------------\u001b[0m",
      "\u001b[0;31mKeyboardInterrupt\u001b[0m                         Traceback (most recent call last)",
      "\u001b[0;32m<ipython-input-6-8efb8f178d7a>\u001b[0m in \u001b[0;36m<module>\u001b[0;34m\u001b[0m\n\u001b[1;32m      7\u001b[0m             \u001b[0mClassifContainer\u001b[0m\u001b[0;34m(\u001b[0m\u001b[0msr\u001b[0m\u001b[0;34m,\u001b[0m \u001b[0;34m'test_seq'\u001b[0m\u001b[0;34m)\u001b[0m \u001b[0;32mfor\u001b[0m \u001b[0msr\u001b[0m \u001b[0;32min\u001b[0m \u001b[0mseq_batch\u001b[0m\u001b[0;34m\u001b[0m\u001b[0;34m\u001b[0m\u001b[0m\n\u001b[1;32m      8\u001b[0m         ]\n\u001b[0;32m----> 9\u001b[0;31m         \u001b[0mofh\u001b[0m\u001b[0;34m.\u001b[0m\u001b[0mwrite\u001b[0m\u001b[0;34m(\u001b[0m\u001b[0mclassif_containers\u001b[0m\u001b[0;34m)\u001b[0m\u001b[0;34m\u001b[0m\u001b[0;34m\u001b[0m\u001b[0m\n\u001b[0m\u001b[1;32m     10\u001b[0m     \u001b[0;31m# end for\u001b[0m\u001b[0;34m\u001b[0m\u001b[0;34m\u001b[0m\u001b[0;34m\u001b[0m\u001b[0m\n\u001b[1;32m     11\u001b[0m \u001b[0;31m# end with\u001b[0m\u001b[0;34m\u001b[0m\u001b[0;34m\u001b[0m\u001b[0;34m\u001b[0m\u001b[0m\n",
      "\u001b[0;32m~/cager/repos/barapost/refactor/src/WriterSystem/FileWriter.py\u001b[0m in \u001b[0;36mwrite\u001b[0;34m(self, classif_records)\u001b[0m\n\u001b[1;32m     33\u001b[0m         \u001b[0;32mfor\u001b[0m \u001b[0mcr\u001b[0m \u001b[0;32min\u001b[0m \u001b[0mclassif_records\u001b[0m\u001b[0;34m:\u001b[0m\u001b[0;34m\u001b[0m\u001b[0;34m\u001b[0m\u001b[0m\n\u001b[1;32m     34\u001b[0m             \u001b[0mout_file_handle\u001b[0m \u001b[0;34m=\u001b[0m \u001b[0mself\u001b[0m\u001b[0;34m.\u001b[0m\u001b[0m_get_out_file_handle\u001b[0m\u001b[0;34m(\u001b[0m\u001b[0mcr\u001b[0m\u001b[0;34m.\u001b[0m\u001b[0mlabel\u001b[0m\u001b[0;34m)\u001b[0m\u001b[0;34m\u001b[0m\u001b[0;34m\u001b[0m\u001b[0m\n\u001b[0;32m---> 35\u001b[0;31m             \u001b[0mself\u001b[0m\u001b[0;34m.\u001b[0m\u001b[0m_write_single_record\u001b[0m\u001b[0;34m(\u001b[0m\u001b[0mcr\u001b[0m\u001b[0;34m.\u001b[0m\u001b[0mrecord\u001b[0m\u001b[0;34m,\u001b[0m \u001b[0mout_file_handle\u001b[0m\u001b[0;34m)\u001b[0m\u001b[0;34m\u001b[0m\u001b[0;34m\u001b[0m\u001b[0m\n\u001b[0m\u001b[1;32m     36\u001b[0m             \u001b[0mself\u001b[0m\u001b[0;34m.\u001b[0m\u001b[0m_update_record_count\u001b[0m\u001b[0;34m(\u001b[0m\u001b[0mcr\u001b[0m\u001b[0;34m.\u001b[0m\u001b[0mlabel\u001b[0m\u001b[0;34m)\u001b[0m\u001b[0;34m\u001b[0m\u001b[0;34m\u001b[0m\u001b[0m\n\u001b[1;32m     37\u001b[0m         \u001b[0;31m# end for\u001b[0m\u001b[0;34m\u001b[0m\u001b[0;34m\u001b[0m\u001b[0;34m\u001b[0m\u001b[0m\n",
      "\u001b[0;32m~/cager/repos/barapost/refactor/src/WriterSystem/Fast5Writer.py\u001b[0m in \u001b[0;36m_write_single_record\u001b[0;34m(self, seq_record, out_file_handle)\u001b[0m\n\u001b[1;32m     24\u001b[0m         \u001b[0;32melse\u001b[0m\u001b[0;34m:\u001b[0m\u001b[0;34m\u001b[0m\u001b[0;34m\u001b[0m\u001b[0m\n\u001b[1;32m     25\u001b[0m             \u001b[0;31m# Multi-FAST5 file\u001b[0m\u001b[0;34m\u001b[0m\u001b[0;34m\u001b[0m\u001b[0;34m\u001b[0m\u001b[0m\n\u001b[0;32m---> 26\u001b[0;31m             self._copy_multi_fast5_record(\n\u001b[0m\u001b[1;32m     27\u001b[0m                 \u001b[0mseq_record\u001b[0m\u001b[0;34m,\u001b[0m\u001b[0;34m\u001b[0m\u001b[0;34m\u001b[0m\u001b[0m\n\u001b[1;32m     28\u001b[0m                 \u001b[0mout_file_handle\u001b[0m\u001b[0;34m\u001b[0m\u001b[0;34m\u001b[0m\u001b[0m\n",
      "\u001b[0;32m~/cager/repos/barapost/refactor/src/WriterSystem/Fast5Writer.py\u001b[0m in \u001b[0;36m_copy_multi_fast5_record\u001b[0;34m(self, seq_record, out_file_handle)\u001b[0m\n\u001b[1;32m     37\u001b[0m     \u001b[0;32mdef\u001b[0m \u001b[0m_copy_multi_fast5_record\u001b[0m\u001b[0;34m(\u001b[0m\u001b[0mself\u001b[0m\u001b[0;34m,\u001b[0m \u001b[0mseq_record\u001b[0m\u001b[0;34m,\u001b[0m \u001b[0mout_file_handle\u001b[0m\u001b[0;34m)\u001b[0m\u001b[0;34m:\u001b[0m\u001b[0;34m\u001b[0m\u001b[0;34m\u001b[0m\u001b[0m\n\u001b[1;32m     38\u001b[0m         \u001b[0;32mtry\u001b[0m\u001b[0;34m:\u001b[0m\u001b[0;34m\u001b[0m\u001b[0;34m\u001b[0m\u001b[0m\n\u001b[0;32m---> 39\u001b[0;31m             \u001b[0mseq_record\u001b[0m\u001b[0;34m.\u001b[0m\u001b[0mfile_handle\u001b[0m\u001b[0;34m.\u001b[0m\u001b[0mcopy\u001b[0m\u001b[0;34m(\u001b[0m\u001b[0mseq_record\u001b[0m\u001b[0;34m.\u001b[0m\u001b[0mread_id\u001b[0m\u001b[0;34m,\u001b[0m \u001b[0mout_file_handle\u001b[0m\u001b[0;34m)\u001b[0m\u001b[0;34m\u001b[0m\u001b[0;34m\u001b[0m\u001b[0m\n\u001b[0m\u001b[1;32m     40\u001b[0m         \u001b[0;32mexcept\u001b[0m \u001b[0mValueError\u001b[0m \u001b[0;32mas\u001b[0m \u001b[0merr\u001b[0m\u001b[0;34m:\u001b[0m\u001b[0;34m\u001b[0m\u001b[0;34m\u001b[0m\u001b[0m\n\u001b[1;32m     41\u001b[0m             \u001b[0;31m# TODO handle this error properly\u001b[0m\u001b[0;34m\u001b[0m\u001b[0;34m\u001b[0m\u001b[0;34m\u001b[0m\u001b[0m\n",
      "\u001b[0;32m~/.local/lib/python3.8/site-packages/h5py/_hl/group.py\u001b[0m in \u001b[0;36mcopy\u001b[0;34m(self, source, dest, name, shallow, expand_soft, expand_external, expand_refs, without_attrs)\u001b[0m\n\u001b[1;32m    569\u001b[0m                 \u001b[0;32melse\u001b[0m\u001b[0;34m:\u001b[0m\u001b[0;34m\u001b[0m\u001b[0;34m\u001b[0m\u001b[0m\n\u001b[1;32m    570\u001b[0m                     \u001b[0;31m# copy source into dest group: dest_name/source_name\u001b[0m\u001b[0;34m\u001b[0m\u001b[0;34m\u001b[0m\u001b[0;34m\u001b[0m\u001b[0m\n\u001b[0;32m--> 571\u001b[0;31m                     \u001b[0mdest_path\u001b[0m \u001b[0;34m=\u001b[0m \u001b[0mpp\u001b[0m\u001b[0;34m.\u001b[0m\u001b[0mbasename\u001b[0m\u001b[0;34m(\u001b[0m\u001b[0mh5i\u001b[0m\u001b[0;34m.\u001b[0m\u001b[0mget_name\u001b[0m\u001b[0;34m(\u001b[0m\u001b[0msource\u001b[0m\u001b[0;34m[\u001b[0m\u001b[0msource_path\u001b[0m\u001b[0;34m]\u001b[0m\u001b[0;34m.\u001b[0m\u001b[0mid\u001b[0m\u001b[0;34m)\u001b[0m\u001b[0;34m)\u001b[0m\u001b[0;34m\u001b[0m\u001b[0;34m\u001b[0m\u001b[0m\n\u001b[0m\u001b[1;32m    572\u001b[0m \u001b[0;34m\u001b[0m\u001b[0m\n\u001b[1;32m    573\u001b[0m             \u001b[0;32melif\u001b[0m \u001b[0misinstance\u001b[0m\u001b[0;34m(\u001b[0m\u001b[0mdest\u001b[0m\u001b[0;34m,\u001b[0m \u001b[0mHLObject\u001b[0m\u001b[0;34m)\u001b[0m\u001b[0;34m:\u001b[0m\u001b[0;34m\u001b[0m\u001b[0;34m\u001b[0m\u001b[0m\n",
      "\u001b[0;32mh5py/_objects.pyx\u001b[0m in \u001b[0;36mh5py._objects.with_phil.wrapper\u001b[0;34m()\u001b[0m\n",
      "\u001b[0;32mh5py/_objects.pyx\u001b[0m in \u001b[0;36mh5py._objects.with_phil.wrapper\u001b[0;34m()\u001b[0m\n",
      "\u001b[0;32m~/.local/lib/python3.8/site-packages/h5py/_hl/group.py\u001b[0m in \u001b[0;36m__getitem__\u001b[0;34m(self, name)\u001b[0m\n\u001b[1;32m    355\u001b[0m                 \u001b[0;32mraise\u001b[0m \u001b[0mValueError\u001b[0m\u001b[0;34m(\u001b[0m\u001b[0;34m\"Invalid HDF5 object reference\"\u001b[0m\u001b[0;34m)\u001b[0m\u001b[0;34m\u001b[0m\u001b[0;34m\u001b[0m\u001b[0m\n\u001b[1;32m    356\u001b[0m         \u001b[0;32melif\u001b[0m \u001b[0misinstance\u001b[0m\u001b[0;34m(\u001b[0m\u001b[0mname\u001b[0m\u001b[0;34m,\u001b[0m \u001b[0;34m(\u001b[0m\u001b[0mbytes\u001b[0m\u001b[0;34m,\u001b[0m \u001b[0mstr\u001b[0m\u001b[0;34m)\u001b[0m\u001b[0;34m)\u001b[0m\u001b[0;34m:\u001b[0m\u001b[0;34m\u001b[0m\u001b[0;34m\u001b[0m\u001b[0m\n\u001b[0;32m--> 357\u001b[0;31m             \u001b[0moid\u001b[0m \u001b[0;34m=\u001b[0m \u001b[0mh5o\u001b[0m\u001b[0;34m.\u001b[0m\u001b[0mopen\u001b[0m\u001b[0;34m(\u001b[0m\u001b[0mself\u001b[0m\u001b[0;34m.\u001b[0m\u001b[0mid\u001b[0m\u001b[0;34m,\u001b[0m \u001b[0mself\u001b[0m\u001b[0;34m.\u001b[0m\u001b[0m_e\u001b[0m\u001b[0;34m(\u001b[0m\u001b[0mname\u001b[0m\u001b[0;34m)\u001b[0m\u001b[0;34m,\u001b[0m \u001b[0mlapl\u001b[0m\u001b[0;34m=\u001b[0m\u001b[0mself\u001b[0m\u001b[0;34m.\u001b[0m\u001b[0m_lapl\u001b[0m\u001b[0;34m)\u001b[0m\u001b[0;34m\u001b[0m\u001b[0;34m\u001b[0m\u001b[0m\n\u001b[0m\u001b[1;32m    358\u001b[0m         \u001b[0;32melse\u001b[0m\u001b[0;34m:\u001b[0m\u001b[0;34m\u001b[0m\u001b[0;34m\u001b[0m\u001b[0m\n\u001b[1;32m    359\u001b[0m             raise TypeError(\"Accessing a group is done with bytes or str, \"\n",
      "\u001b[0;32mh5py/_objects.pyx\u001b[0m in \u001b[0;36mh5py._objects.with_phil.wrapper\u001b[0;34m()\u001b[0m\n",
      "\u001b[0;32mh5py/_objects.pyx\u001b[0m in \u001b[0;36mh5py._objects.with_phil.wrapper\u001b[0;34m()\u001b[0m\n",
      "\u001b[0;32mh5py/h5o.pyx\u001b[0m in \u001b[0;36mh5py.h5o.open\u001b[0;34m()\u001b[0m\n",
      "\u001b[0;32mh5py/h5i.pyx\u001b[0m in \u001b[0;36mh5py.h5i.wrap_identifier\u001b[0;34m()\u001b[0m\n",
      "\u001b[0;32m/usr/local/lib/python3.8/importlib/_bootstrap.py\u001b[0m in \u001b[0;36mparent\u001b[0;34m(self)\u001b[0m\n",
      "\u001b[0;31mKeyboardInterrupt\u001b[0m: "
     ]
    }
   ],
   "source": [
    "fast5_test_fpath = '/home/deynonih/cager/NGS-test-data/for_barapost/FAL91692_72e297f8_0.fast5'\n",
    "\n",
    "with ReaderWrapper(fast5_test_fpath) as ifh, \\\n",
    "     WriterWrapper(False, 2, 'fast5') as ofh:\n",
    "    for seq_batch in ifh:\n",
    "        classif_containers = [\n",
    "            ClassifContainer(sr, 'test_seq') for sr in seq_batch\n",
    "        ]\n",
    "        ofh.write(classif_containers)\n",
    "    # end for\n",
    "# end with"
   ]
  },
  {
   "cell_type": "code",
   "execution_count": 16,
   "metadata": {},
   "outputs": [],
   "source": [
    "fast5_test_fpath = '/home/deynonih/cager/NGS-test-data/for_barapost/FAL91692_72e297f8_0_single/0/00001da1-4ebb-4ce6-9128-d050d3696fcc.fast5'\n",
    "\n",
    "with ReaderWrapper(fast5_test_fpath) as ifh, \\\n",
    "     WriterWrapper(False, 2, 'fast5') as ofh:\n",
    "    for seq_batch in ifh:\n",
    "        classif_containers = [\n",
    "            ClassifContainer(sr, 'test_seq') for sr in seq_batch\n",
    "        ]\n",
    "        ofh.write(classif_containers)\n",
    "    # end for\n",
    "# end with"
   ]
  },
  {
   "cell_type": "code",
   "execution_count": 11,
   "metadata": {},
   "outputs": [
    {
     "data": {
      "text/plain": [
       "Fast5(\n",
       "    file_handle=<HDF5 file \"00001da1-4ebb-4ce6-9128-d050d3696fcc.fast5\" (mode r)>,\n",
       "    read_uuid='read_00001da1-4ebb-4ce6-9128-d050d3696fcc'\n",
       ")"
      ]
     },
     "execution_count": 11,
     "metadata": {},
     "output_type": "execute_result"
    }
   ],
   "source": [
    "classif_containers[0].record"
   ]
  },
  {
   "cell_type": "code",
   "execution_count": 10,
   "metadata": {},
   "outputs": [
    {
     "name": "stdout",
     "output_type": "stream",
     "text": [
      "[Blow5(record={'read_id': 'c018e0f4-2cf9-4b36-8961-751cc03d8dd5', 'read_group': 0, 'digitisation': 8192.0, 'offset': 4.0, 'range': 1787.8380126953125, 'sampling_rate': 5000.0, 'len_raw_signal': 139005, 'signal': array([511, 486, 496, ..., 318, 240, 264], dtype=int16)})]\n",
      "\n",
      "[Blow5(record={'read_id': '0082f3c8-8b36-443b-a50a-064918f7e871', 'read_group': 0, 'digitisation': 8192.0, 'offset': 4.0, 'range': 1787.8380126953125, 'sampling_rate': 5000.0, 'len_raw_signal': 11877, 'signal': array([534, 523, 526, ..., 411, 503, 633], dtype=int16)})]\n",
      "\n",
      "[Blow5(record={'read_id': '34f2315d-1dfc-43cb-a772-c348ab46aa59', 'read_group': 0, 'digitisation': 8192.0, 'offset': 4.0, 'range': 1787.8380126953125, 'sampling_rate': 5000.0, 'len_raw_signal': 22636, 'signal': array([501, 506, 500, ..., 443, 463, 472], dtype=int16)})]\n",
      "\n",
      "[Blow5(record={'read_id': '20f9f51c-56f9-4646-9fca-dd441b8dcc66', 'read_group': 0, 'digitisation': 8192.0, 'offset': 21.0, 'range': 1787.8380126953125, 'sampling_rate': 5000.0, 'len_raw_signal': 15928, 'signal': array([636, 478, 483, ..., 377, 490, 506], dtype=int16)})]\n",
      "\n",
      "[Blow5(record={'read_id': '57d94d8a-a448-47ef-8037-e1d83081c2fe', 'read_group': 0, 'digitisation': 8192.0, 'offset': 21.0, 'range': 1787.8380126953125, 'sampling_rate': 5000.0, 'len_raw_signal': 42230, 'signal': array([518, 494, 518, ..., 386, 372, 586], dtype=int16)})]\n",
      "\n"
     ]
    }
   ],
   "source": [
    "blow5_test_fpath = '/home/deynonih/cager/NGS-test-data/for_barapost/FAY62206_04e2939b_50079bd0_18.blow5'\n",
    "\n",
    "with ReaderWrapper(blow5_test_fpath) as ifh:\n",
    "    for i, l in enumerate(ifh):\n",
    "        print(l)\n",
    "        print()\n",
    "        if i == 4:\n",
    "            break\n",
    "        # end if\n",
    "    # end for\n",
    "# end with\n"
   ]
  },
  {
   "cell_type": "code",
   "execution_count": 11,
   "metadata": {},
   "outputs": [
    {
     "name": "stdout",
     "output_type": "stream",
     "text": [
      "[Slow5(\n",
      "    record={'read_id': 'c018e0f4-2cf9-4b36-8961-751cc03d8dd5', 'read_group': 0, 'digitisation': 8192.0, 'offset': 4.0, 'range': 1787.838013, 'sampling_rate': 5000.0, 'len_raw_signal': 139005, 'signal': array([511, 486, 496, ..., 318, 240, 264], dtype=int16)}\n",
      ")]\n",
      "\n",
      "[Slow5(\n",
      "    record={'read_id': '0082f3c8-8b36-443b-a50a-064918f7e871', 'read_group': 0, 'digitisation': 8192.0, 'offset': 4.0, 'range': 1787.838013, 'sampling_rate': 5000.0, 'len_raw_signal': 11877, 'signal': array([534, 523, 526, ..., 411, 503, 633], dtype=int16)}\n",
      ")]\n",
      "\n",
      "[Slow5(\n",
      "    record={'read_id': '34f2315d-1dfc-43cb-a772-c348ab46aa59', 'read_group': 0, 'digitisation': 8192.0, 'offset': 4.0, 'range': 1787.838013, 'sampling_rate': 5000.0, 'len_raw_signal': 22636, 'signal': array([501, 506, 500, ..., 443, 463, 472], dtype=int16)}\n",
      ")]\n",
      "\n",
      "[Slow5(\n",
      "    record={'read_id': '20f9f51c-56f9-4646-9fca-dd441b8dcc66', 'read_group': 0, 'digitisation': 8192.0, 'offset': 21.0, 'range': 1787.838013, 'sampling_rate': 5000.0, 'len_raw_signal': 15928, 'signal': array([636, 478, 483, ..., 377, 490, 506], dtype=int16)}\n",
      ")]\n",
      "\n",
      "[Slow5(\n",
      "    record={'read_id': '57d94d8a-a448-47ef-8037-e1d83081c2fe', 'read_group': 0, 'digitisation': 8192.0, 'offset': 21.0, 'range': 1787.838013, 'sampling_rate': 5000.0, 'len_raw_signal': 42230, 'signal': array([518, 494, 518, ..., 386, 372, 586], dtype=int16)}\n",
      ")]\n",
      "\n"
     ]
    }
   ],
   "source": [
    "slow5_test_fpath = '/home/deynonih/cager/NGS-test-data/for_barapost/FAY62206_04e2939b_50079bd0_18.slow5'\n",
    "\n",
    "with ReaderWrapper(slow5_test_fpath) as ifh:\n",
    "    for i, l in enumerate(ifh):\n",
    "        print(l)\n",
    "        print()\n",
    "        if i == 4:\n",
    "            break\n",
    "        # end if\n",
    "    # end for\n",
    "# end with\n"
   ]
  },
  {
   "cell_type": "code",
   "execution_count": 17,
   "metadata": {},
   "outputs": [
    {
     "name": "stdout",
     "output_type": "stream",
     "text": [
      "c018e0f4-2cf9-4b36-8961-751cc03d8dd5\n",
      "\n",
      "0082f3c8-8b36-443b-a50a-064918f7e871\n",
      "\n",
      "34f2315d-1dfc-43cb-a772-c348ab46aa59\n",
      "\n",
      "20f9f51c-56f9-4646-9fca-dd441b8dcc66\n",
      "\n",
      "57d94d8a-a448-47ef-8037-e1d83081c2fe\n",
      "\n"
     ]
    }
   ],
   "source": [
    "pod5_test_fpath = '/home/deynonih/cager/NGS-test-data/for_barapost/FAY62206_04e2939b_50079bd0_18.pod5'\n",
    "\n",
    "with ReaderWrapper(pod5_test_fpath) as ifh:\n",
    "    for i, l in enumerate(ifh):\n",
    "        print(l[0].record.read_id)\n",
    "        print()\n",
    "        if i == 4:\n",
    "            break\n",
    "        # end if\n",
    "    # end for\n",
    "# end with\n"
   ]
  }
 ],
 "metadata": {
  "kernelspec": {
   "display_name": "Python 3 (ipykernel)",
   "language": "python",
   "name": "python3"
  },
  "language_info": {
   "codemirror_mode": {
    "name": "ipython",
    "version": 3
   },
   "file_extension": ".py",
   "mimetype": "text/x-python",
   "name": "python",
   "nbconvert_exporter": "python",
   "pygments_lexer": "ipython3",
   "version": "3.8.6"
  }
 },
 "nbformat": 4,
 "nbformat_minor": 2
}
