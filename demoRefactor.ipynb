{
 "cells": [
  {
   "cell_type": "code",
   "execution_count": 1,
   "metadata": {},
   "outputs": [],
   "source": [
    "from refactor.src.Containers.Fasta import Fasta\n",
    "from refactor.src.WriterSystem.FileWriter import FileWriter\n",
    "\n",
    "fasta_0 = Fasta(\"E.coli\", 'AAAAA', 'Coli_0')\n",
    "fasta_1 = Fasta(\"E.coli\", 'AAATA', 'Coli_1')\n",
    "fasta_2 = Fasta(\"E.coli\", 'AAATTT', 'Coli_2')\n",
    "\n",
    "fasta_3 = Fasta(\"E.colli\", 'GGAATTT', 'Coli_3')\n",
    "\n",
    "fileWriter = FileWriter(False, 'FASTA', 2)\n",
    "\n",
    "fileWriter.write([fasta_0, fasta_1, fasta_2, fasta_3])"
   ]
  },
  {
   "cell_type": "code",
   "execution_count": 1,
   "metadata": {},
   "outputs": [],
   "source": [
    "from refactor.src.Containers.FastQ import FastQ\n",
    "from refactor.src.WriterSystem.FileWriter import FileWriter\n",
    "\n",
    "fastq_0 = FastQ(\"E.coli\", \"AAAAA\", \"+\", \"!!!!\")\n",
    "fastq_1 = FastQ(\"E.coli\", \"AAATA\", \"+\", \"!!!!\")\n",
    "fastq_2 = FastQ(\"E.coli\", \"AAATTT\", \"+\", \"!!!!\")\n",
    "\n",
    "fastq_3 = FastQ(\"E.colli\", \"GGAATTT\", \"+\", \"!!!!\")\n",
    "\n",
    "fileWriter = FileWriter(True, 'FASTQ', 2)\n",
    "\n",
    "fileWriter.write([fastq_0, fastq_1, fastq_2, fastq_3])"
   ]
  }
 ],
 "metadata": {
  "kernelspec": {
   "display_name": "base",
   "language": "python",
   "name": "python3"
  },
  "language_info": {
   "codemirror_mode": {
    "name": "ipython",
    "version": 3
   },
   "file_extension": ".py",
   "mimetype": "text/x-python",
   "name": "python",
   "nbconvert_exporter": "python",
   "pygments_lexer": "ipython3",
   "version": "3.11.5"
  }
 },
 "nbformat": 4,
 "nbformat_minor": 2
}
