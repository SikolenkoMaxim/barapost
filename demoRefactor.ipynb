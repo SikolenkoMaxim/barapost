{
 "cells": [
  {
   "cell_type": "code",
   "execution_count": 1,
   "metadata": {},
   "outputs": [
    {
     "ename": "ModuleNotFoundError",
     "evalue": "No module named 'Fasta'",
     "output_type": "error",
     "traceback": [
      "\u001b[0;31m---------------------------------------------------------------------------\u001b[0m",
      "\u001b[0;31mModuleNotFoundError\u001b[0m                       Traceback (most recent call last)",
      "Cell \u001b[0;32mIn[1], line 2\u001b[0m\n\u001b[1;32m      1\u001b[0m \u001b[38;5;28;01mfrom\u001b[39;00m \u001b[38;5;21;01mrefactor\u001b[39;00m\u001b[38;5;21;01m.\u001b[39;00m\u001b[38;5;21;01msrc\u001b[39;00m\u001b[38;5;21;01m.\u001b[39;00m\u001b[38;5;21;01mContainers\u001b[39;00m\u001b[38;5;21;01m.\u001b[39;00m\u001b[38;5;21;01mFasta\u001b[39;00m \u001b[38;5;28;01mimport\u001b[39;00m Fasta\n\u001b[0;32m----> 2\u001b[0m \u001b[38;5;28;01mfrom\u001b[39;00m \u001b[38;5;21;01mrefactor\u001b[39;00m\u001b[38;5;21;01m.\u001b[39;00m\u001b[38;5;21;01msrc\u001b[39;00m\u001b[38;5;21;01m.\u001b[39;00m\u001b[38;5;21;01mContainers\u001b[39;00m\u001b[38;5;21;01m.\u001b[39;00m\u001b[38;5;21;01mFastaContainer\u001b[39;00m \u001b[38;5;28;01mimport\u001b[39;00m FastaContainer\n\u001b[1;32m      3\u001b[0m \u001b[38;5;28;01mfrom\u001b[39;00m \u001b[38;5;21;01mrefactor\u001b[39;00m\u001b[38;5;21;01m.\u001b[39;00m\u001b[38;5;21;01msrc\u001b[39;00m\u001b[38;5;21;01m.\u001b[39;00m\u001b[38;5;21;01mWriterSystem\u001b[39;00m\u001b[38;5;21;01m.\u001b[39;00m\u001b[38;5;21;01mFastaFileWriter\u001b[39;00m \u001b[38;5;28;01mimport\u001b[39;00m FastaFileWriter\n\u001b[1;32m      5\u001b[0m fasta_0 \u001b[38;5;241m=\u001b[39m FastaContainer(Fasta(\u001b[38;5;124m'\u001b[39m\u001b[38;5;124mAAAAA\u001b[39m\u001b[38;5;124m'\u001b[39m, \u001b[38;5;124m'\u001b[39m\u001b[38;5;124mColi_0\u001b[39m\u001b[38;5;124m'\u001b[39m), \u001b[38;5;124m'\u001b[39m\u001b[38;5;124mE.coli\u001b[39m\u001b[38;5;124m'\u001b[39m)\n",
      "File \u001b[0;32m~/main/barapost/barapost/refactor/src/Containers/FastaContainer.py:1\u001b[0m\n\u001b[0;32m----> 1\u001b[0m \u001b[38;5;28;01mfrom\u001b[39;00m \u001b[38;5;21;01mFasta\u001b[39;00m \u001b[38;5;28;01mimport\u001b[39;00m Fasta\n\u001b[1;32m      3\u001b[0m \u001b[38;5;28;01mclass\u001b[39;00m \u001b[38;5;21;01mFastaContainer\u001b[39;00m():\n\u001b[1;32m      4\u001b[0m     \u001b[38;5;28;01mdef\u001b[39;00m \u001b[38;5;21m__init__\u001b[39m(\u001b[38;5;28mself\u001b[39m, file : Fasta, label : \u001b[38;5;28mstr\u001b[39m):\n",
      "\u001b[0;31mModuleNotFoundError\u001b[0m: No module named 'Fasta'"
     ]
    }
   ],
   "source": [
    "from refactor.src.Containers.Fasta import Fasta\n",
    "from refactor.src.Containers.FastaContainer import FastaContainer\n",
    "from refactor.src.WriterSystem.FastaFileWriter import FastaFileWriter\n",
    "\n",
    "fasta_0 = FastaContainer(Fasta('AAAAA', 'Coli_0'), 'E.coli')\n",
    "fasta_1 = FastaContainer(Fasta('ATAAA', 'Coli_1'), 'E.coli')\n",
    "fasta_2 = FastaContainer(Fasta('AAGAA', 'Coli_2'), 'E.coli')\n",
    "\n",
    "fasta_3 = FastaContainer(Fasta('GGAATTT', 'Coli_3'), \"E.colli\")\n",
    "\n",
    "fileWriter = FastaFileWriter(False, 2)\n",
    "\n",
    "fileWriter.write([fasta_0, fasta_1, fasta_2, fasta_3])"
   ]
  },
  {
   "cell_type": "code",
   "execution_count": 1,
   "metadata": {},
   "outputs": [
    {
     "ename": "ModuleNotFoundError",
     "evalue": "No module named 'FastQ'",
     "output_type": "error",
     "traceback": [
      "\u001b[0;31m---------------------------------------------------------------------------\u001b[0m",
      "\u001b[0;31mModuleNotFoundError\u001b[0m                       Traceback (most recent call last)",
      "Cell \u001b[0;32mIn[1], line 2\u001b[0m\n\u001b[1;32m      1\u001b[0m \u001b[38;5;28;01mfrom\u001b[39;00m \u001b[38;5;21;01mrefactor\u001b[39;00m\u001b[38;5;21;01m.\u001b[39;00m\u001b[38;5;21;01msrc\u001b[39;00m\u001b[38;5;21;01m.\u001b[39;00m\u001b[38;5;21;01mContainers\u001b[39;00m\u001b[38;5;21;01m.\u001b[39;00m\u001b[38;5;21;01mFastQ\u001b[39;00m \u001b[38;5;28;01mimport\u001b[39;00m FastQ\n\u001b[0;32m----> 2\u001b[0m \u001b[38;5;28;01mfrom\u001b[39;00m \u001b[38;5;21;01mrefactor\u001b[39;00m\u001b[38;5;21;01m.\u001b[39;00m\u001b[38;5;21;01msrc\u001b[39;00m\u001b[38;5;21;01m.\u001b[39;00m\u001b[38;5;21;01mWriterSystem\u001b[39;00m\u001b[38;5;21;01m.\u001b[39;00m\u001b[38;5;21;01mFastQWriter\u001b[39;00m \u001b[38;5;28;01mimport\u001b[39;00m FastQWriter\n\u001b[1;32m      3\u001b[0m \u001b[38;5;28;01mfrom\u001b[39;00m \u001b[38;5;21;01mrefactor\u001b[39;00m\u001b[38;5;21;01m.\u001b[39;00m\u001b[38;5;21;01msrc\u001b[39;00m\u001b[38;5;21;01m.\u001b[39;00m\u001b[38;5;21;01mContainers\u001b[39;00m\u001b[38;5;21;01m.\u001b[39;00m\u001b[38;5;21;01mFastQContainer\u001b[39;00m \u001b[38;5;28;01mimport\u001b[39;00m FastQContainer\n\u001b[1;32m      5\u001b[0m fastq_0 \u001b[38;5;241m=\u001b[39m FastQContainer(FastQ(\u001b[38;5;124m\"\u001b[39m\u001b[38;5;124mColi_0\u001b[39m\u001b[38;5;124m\"\u001b[39m, \u001b[38;5;124m\"\u001b[39m\u001b[38;5;124mAAAAA\u001b[39m\u001b[38;5;124m\"\u001b[39m, \u001b[38;5;124m\"\u001b[39m\u001b[38;5;124m+\u001b[39m\u001b[38;5;124m\"\u001b[39m, \u001b[38;5;124m\"\u001b[39m\u001b[38;5;124m!!!!\u001b[39m\u001b[38;5;124m\"\u001b[39m), \u001b[38;5;124m\"\u001b[39m\u001b[38;5;124mE.coli\u001b[39m\u001b[38;5;124m\"\u001b[39m)\n",
      "File \u001b[0;32m~/main/barapost/barapost/refactor/src/WriterSystem/FastQWriter.py:5\u001b[0m\n\u001b[1;32m      2\u001b[0m \u001b[38;5;28;01mimport\u001b[39;00m \u001b[38;5;21;01mglob\u001b[39;00m\n\u001b[1;32m      3\u001b[0m \u001b[38;5;28;01mimport\u001b[39;00m \u001b[38;5;21;01mgzip\u001b[39;00m\n\u001b[0;32m----> 5\u001b[0m \u001b[38;5;28;01mfrom\u001b[39;00m \u001b[38;5;21;01m.\u001b[39;00m\u001b[38;5;21;01m.\u001b[39;00m\u001b[38;5;21;01mContainers\u001b[39;00m\u001b[38;5;21;01m.\u001b[39;00m\u001b[38;5;21;01mFastQContainer\u001b[39;00m \u001b[38;5;28;01mimport\u001b[39;00m FastQContainer\n\u001b[1;32m      7\u001b[0m \u001b[38;5;28;01mfrom\u001b[39;00m \u001b[38;5;21;01m.\u001b[39;00m\u001b[38;5;21;01m.\u001b[39;00m\u001b[38;5;21;01mConfig\u001b[39;00m\u001b[38;5;21;01m.\u001b[39;00m\u001b[38;5;21;01mconfig\u001b[39;00m \u001b[38;5;28;01mimport\u001b[39;00m OUTPUT_DIR\n\u001b[1;32m      9\u001b[0m \u001b[38;5;28;01mclass\u001b[39;00m \u001b[38;5;21;01mFastQWriter\u001b[39;00m():\n",
      "File \u001b[0;32m~/main/barapost/barapost/refactor/src/Containers/FastQContainer.py:1\u001b[0m\n\u001b[0;32m----> 1\u001b[0m \u001b[38;5;28;01mfrom\u001b[39;00m \u001b[38;5;21;01mFastQ\u001b[39;00m \u001b[38;5;28;01mimport\u001b[39;00m FastQ\n\u001b[1;32m      2\u001b[0m \u001b[38;5;28;01mfrom\u001b[39;00m \u001b[38;5;21;01mFastaContainer\u001b[39;00m \u001b[38;5;28;01mimport\u001b[39;00m FastaContainer\n\u001b[1;32m      4\u001b[0m \u001b[38;5;28;01mclass\u001b[39;00m \u001b[38;5;21;01mFastQContainer\u001b[39;00m():\n",
      "\u001b[0;31mModuleNotFoundError\u001b[0m: No module named 'FastQ'"
     ]
    }
   ],
   "source": [
    "from refactor.src.Containers.FastQ import FastQ\n",
    "from refactor.src.WriterSystem.FastQWriter import FastQWriter\n",
    "from refactor.src.Containers.FastQContainer import FastQContainer\n",
    "\n",
    "fastq_0 = FastQContainer(FastQ(\"Coli_0\", \"AAAAA\", \"+\", \"!!!!\"), \"E.coli\")\n",
    "fastq_1 = FastQContainer(FastQ(\"Coli_1\", \"AAATA\", \"+\", \"!!!!\"),\"E.coli\")\n",
    "fastq_2 = FastQContainer(FastQ(\"Coli_2\", \"AAATTT\", \"+\", \"!!!!\"), \"E.coli\")\n",
    "\n",
    "fastq_3 = FastQContainer(FastQ(\"Coli_3\", \"GGAATTT\", \"+\", \"!!!!\"), 'Coli')\n",
    "\n",
    "fileWriter = FastQWriter(False, 2)\n",
    "\n",
    "fileWriter.write([fastq_0, fastq_1, fastq_2, fastq_3])"
   ]
  }
 ],
 "metadata": {
  "kernelspec": {
   "display_name": "base",
   "language": "python",
   "name": "python3"
  },
  "language_info": {
   "codemirror_mode": {
    "name": "ipython",
    "version": 3
   },
   "file_extension": ".py",
   "mimetype": "text/x-python",
   "name": "python",
   "nbconvert_exporter": "python",
   "pygments_lexer": "ipython3",
   "version": "3.11.5"
  }
 },
 "nbformat": 4,
 "nbformat_minor": 2
}
