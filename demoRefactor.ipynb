{
 "cells": [
  {
   "cell_type": "code",
   "execution_count": 1,
   "metadata": {},
   "outputs": [],
   "source": [
    "from refactor.src.Containers.Fasta import Fasta\n",
    "from refactor.src.Containers.FastaContainer import FastaContainer\n",
    "from refactor.src.WriterSystem.FastaFileWriter import FastaFileWriter\n",
    "\n",
    "fasta_0 = FastaContainer(Fasta('AAAAA', 'Coli_0'), 'E.coli')\n",
    "fasta_1 = FastaContainer(Fasta('ATAAA', 'Coli_1'), 'E.coli')\n",
    "fasta_2 = FastaContainer(Fasta('AAGAA', 'Coli_2'), 'E.coli')\n",
    "\n",
    "fasta_3 = FastaContainer(Fasta('GGAATTT', 'Coli_3'), \"E.colli\")\n",
    "\n",
    "fileWriter = FastaFileWriter(False, 2)\n",
    "\n",
    "fileWriter.write([fasta_0, fasta_1, fasta_2, fasta_3])"
   ]
  },
  {
   "cell_type": "code",
   "execution_count": 1,
   "metadata": {},
   "outputs": [],
   "source": [
    "from refactor.src.Containers.FastQ import FastQ\n",
    "from refactor.src.WriterSystem.FastQWriter import FastQWriter\n",
    "from refactor.src.Containers.FastQContainer import FastQContainer\n",
    "\n",
    "fastq_0 = FastQContainer(FastQ(\"Coli_0\", \"AAAAA\", \"+\", \"!!!!\"), \"E.coli\")\n",
    "fastq_1 = FastQContainer(FastQ(\"Coli_1\", \"AAATA\", \"+\", \"!!!!\"),\"E.coli\")\n",
    "fastq_2 = FastQContainer(FastQ(\"Coli_2\", \"AAATTT\", \"+\", \"!!!!\"), \"E.coli\")\n",
    "\n",
    "fastq_3 = FastQContainer(FastQ(\"Coli_3\", \"GGAATTT\", \"+\", \"!!!!\"), 'Coli')\n",
    "\n",
    "fileWriter = FastQWriter(False, 2)\n",
    "\n",
    "fileWriter.write([fastq_0, fastq_1, fastq_2, fastq_3])"
   ]
  },
  {
   "cell_type": "code",
   "execution_count": 6,
   "metadata": {},
   "outputs": [
    {
     "data": {
      "text/plain": [
       "-27.991428656770093"
      ]
     },
     "execution_count": 6,
     "metadata": {},
     "output_type": "execute_result"
    }
   ],
   "source": [
    "from refactor.src.Containers.FastQ import FastQ\n",
    "from refactor.src.Containers.FastQContainer import FastQContainer\n",
    "\n",
    "fasyq = FastQContainer(FastQ(\"Coli_0\", \"AAAAA\", \"+\", \"!CC!\"), \"E.coli\")\n",
    "\n",
    "fasyq.average_quality()"
   ]
  }
 ],
 "metadata": {
  "kernelspec": {
   "display_name": "base",
   "language": "python",
   "name": "python3"
  },
  "language_info": {
   "codemirror_mode": {
    "name": "ipython",
    "version": 3
   },
   "file_extension": ".py",
   "mimetype": "text/x-python",
   "name": "python",
   "nbconvert_exporter": "python",
   "pygments_lexer": "ipython3",
   "version": "3.11.5"
  }
 },
 "nbformat": 4,
 "nbformat_minor": 2
}
