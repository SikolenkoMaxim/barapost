{
 "cells": [
  {
   "cell_type": "code",
   "execution_count": 1,
   "metadata": {},
   "outputs": [],
   "source": [
    "from refactor.src.Containers.Fasta import Fasta\n",
    "from refactor.src.Containers.FastaContainer import FastaContainer\n",
    "from refactor.src.WriterSystem.FastaFileWriter import FastaFileWriter\n",
    "\n",
    "fasta_0 = FastaContainer(Fasta('AAAAA', 'Coli_0'), 'E.coli')\n",
    "fasta_1 = FastaContainer(Fasta('ATAAA', 'Coli_1'), 'E.coli')\n",
    "fasta_2 = FastaContainer(Fasta('AAGAA', 'Coli_2'), 'E.coli')\n",
    "\n",
    "fasta_3 = FastaContainer(Fasta('GGAATTT', 'Coli_3'), \"E.colli\")\n",
    "\n",
    "fileWriter = FastaFileWriter(False, 2)\n",
    "\n",
    "fileWriter.write([fasta_0, fasta_1, fasta_2, fasta_3])"
   ]
  },
  {
   "cell_type": "code",
   "execution_count": 1,
   "metadata": {},
   "outputs": [],
   "source": [
    "from refactor.src.Containers.FastQ import FastQ\n",
    "from refactor.src.WriterSystem.FastQWriter import FastQWriter\n",
    "from refactor.src.Containers.FastQContainer import FastQContainer\n",
    "\n",
    "fastq_0 = FastQContainer(FastQ(\"Coli_0\", \"AAAAA\", \"+\", \"!!!!\"), \"E.coli\")\n",
    "fastq_1 = FastQContainer(FastQ(\"Coli_1\", \"AAATA\", \"+\", \"!!!!\"),\"E.coli\")\n",
    "fastq_2 = FastQContainer(FastQ(\"Coli_2\", \"AAATTT\", \"+\", \"!!!!\"), \"E.coli\")\n",
    "\n",
    "fastq_3 = FastQContainer(FastQ(\"Coli_3\", \"GGAATTT\", \"+\", \"!!!!\"), 'Coli')\n",
    "\n",
    "fileWriter = FastQWriter(False, 2)\n",
    "\n",
    "fileWriter.write([fastq_0, fastq_1, fastq_2, fastq_3])"
   ]
  },
  {
   "cell_type": "code",
   "execution_count": 7,
   "metadata": {},
   "outputs": [
    {
     "data": {
      "text/plain": [
       "3.0085713432299075"
      ]
     },
     "execution_count": 7,
     "metadata": {},
     "output_type": "execute_result"
    }
   ],
   "source": [
    "from refactor.src.Containers.FastQ import FastQ\n",
    "from refactor.src.Containers.FastQContainer import FastQContainer\n",
    "\n",
    "fasyq = FastQContainer(FastQ(\"Coli_0\", \"AAAAA\", \"+\", \"!CC!\"), \"E.coli\")\n",
    "\n",
    "fasyq.average_quality()"
   ]
  },
  {
   "cell_type": "code",
   "execution_count": 2,
   "metadata": {},
   "outputs": [
    {
     "ename": "ValueError",
     "evalue": "Invalid file type",
     "output_type": "error",
     "traceback": [
      "\u001b[0;31m---------------------------------------------------------------------------\u001b[0m",
      "\u001b[0;31mValueError\u001b[0m                                Traceback (most recent call last)",
      "Cell \u001b[0;32mIn[2], line 12\u001b[0m\n\u001b[1;32m      8\u001b[0m fastq_2 \u001b[38;5;241m=\u001b[39m FastQContainer(FastQ(\u001b[38;5;124m\"\u001b[39m\u001b[38;5;124mColi_2\u001b[39m\u001b[38;5;124m\"\u001b[39m, \u001b[38;5;124m\"\u001b[39m\u001b[38;5;124mAAATTT\u001b[39m\u001b[38;5;124m\"\u001b[39m, \u001b[38;5;124m\"\u001b[39m\u001b[38;5;124m+\u001b[39m\u001b[38;5;124m\"\u001b[39m, \u001b[38;5;124m\"\u001b[39m\u001b[38;5;124m!!!!\u001b[39m\u001b[38;5;124m\"\u001b[39m), \u001b[38;5;124m\"\u001b[39m\u001b[38;5;124mE.coli\u001b[39m\u001b[38;5;124m\"\u001b[39m)\n\u001b[1;32m     10\u001b[0m fastq_3 \u001b[38;5;241m=\u001b[39m FastQContainer(FastQ(\u001b[38;5;124m\"\u001b[39m\u001b[38;5;124mColi_3\u001b[39m\u001b[38;5;124m\"\u001b[39m, \u001b[38;5;124m\"\u001b[39m\u001b[38;5;124mGGAATTT\u001b[39m\u001b[38;5;124m\"\u001b[39m, \u001b[38;5;124m\"\u001b[39m\u001b[38;5;124m+\u001b[39m\u001b[38;5;124m\"\u001b[39m, \u001b[38;5;124m\"\u001b[39m\u001b[38;5;124m!!!!\u001b[39m\u001b[38;5;124m\"\u001b[39m), \u001b[38;5;124m'\u001b[39m\u001b[38;5;124mColi\u001b[39m\u001b[38;5;124m'\u001b[39m)\n\u001b[0;32m---> 12\u001b[0m fileWriter \u001b[38;5;241m=\u001b[39m WriterSystem(\u001b[38;5;28;01mTrue\u001b[39;00m, \u001b[38;5;241m2\u001b[39m, \u001b[38;5;124m'\u001b[39m\u001b[38;5;124mfastq1\u001b[39m\u001b[38;5;124m'\u001b[39m)\n\u001b[1;32m     14\u001b[0m fileWriter\u001b[38;5;241m.\u001b[39mwrite([fastq_0, fastq_1, fastq_2, fastq_3])\n",
      "File \u001b[0;32m~/main/barapost/barapost/refactor/src/WriterSystem/WriterSystem.py:9\u001b[0m, in \u001b[0;36mWriterSystem.__init__\u001b[0;34m(self, _gzip_, n_max_out, _type_)\u001b[0m\n\u001b[1;32m      7\u001b[0m \u001b[38;5;28mself\u001b[39m\u001b[38;5;241m.\u001b[39mn_max_out \u001b[38;5;241m=\u001b[39m n_max_out\n\u001b[1;32m      8\u001b[0m \u001b[38;5;28;01mif\u001b[39;00m _type_ \u001b[38;5;129;01mnot\u001b[39;00m \u001b[38;5;129;01min\u001b[39;00m [\u001b[38;5;124m'\u001b[39m\u001b[38;5;124mfasta\u001b[39m\u001b[38;5;124m'\u001b[39m, \u001b[38;5;124m'\u001b[39m\u001b[38;5;124mfastq\u001b[39m\u001b[38;5;124m'\u001b[39m]:\n\u001b[0;32m----> 9\u001b[0m     \u001b[38;5;28;01mraise\u001b[39;00m \u001b[38;5;167;01mValueError\u001b[39;00m(\u001b[38;5;124m'\u001b[39m\u001b[38;5;124mInvalid file type\u001b[39m\u001b[38;5;124m'\u001b[39m)\n\u001b[1;32m     10\u001b[0m \u001b[38;5;66;03m# end if\u001b[39;00m\n\u001b[1;32m     11\u001b[0m \u001b[38;5;28mself\u001b[39m\u001b[38;5;241m.\u001b[39m_type_ \u001b[38;5;241m=\u001b[39m _type_\n",
      "\u001b[0;31mValueError\u001b[0m: Invalid file type"
     ]
    }
   ],
   "source": [
    "from refactor.src.Containers.FastQ import FastQ\n",
    "from refactor.src.WriterSystem.FastQWriter import FastQWriter\n",
    "from refactor.src.Containers.FastQContainer import FastQContainer\n",
    "from refactor.src.WriterSystem.WriterSystem import WriterSystem\n",
    "\n",
    "fastq_0 = FastQContainer(FastQ(\"Coli_0\", \"AAAAA\", \"+\", \"!!!!\"), \"E.coli\")\n",
    "fastq_1 = FastQContainer(FastQ(\"Coli_1\", \"AAATA\", \"+\", \"!!!!\"),\"E.coli\")\n",
    "fastq_2 = FastQContainer(FastQ(\"Coli_2\", \"AAATTT\", \"+\", \"!!!!\"), \"E.coli\")\n",
    "\n",
    "fastq_3 = FastQContainer(FastQ(\"Coli_3\", \"GGAATTT\", \"+\", \"!!!!\"), 'Coli')\n",
    "\n",
    "fileWriter = WriterSystem(True, 2, 'fastq')\n",
    "\n",
    "fileWriter.write([fastq_0, fastq_1, fastq_2, fastq_3])"
   ]
  }
 ],
 "metadata": {
  "kernelspec": {
   "display_name": "base",
   "language": "python",
   "name": "python3"
  },
  "language_info": {
   "codemirror_mode": {
    "name": "ipython",
    "version": 3
   },
   "file_extension": ".py",
   "mimetype": "text/x-python",
   "name": "python",
   "nbconvert_exporter": "python",
   "pygments_lexer": "ipython3",
   "version": "3.11.5"
  }
 },
 "nbformat": 4,
 "nbformat_minor": 2
}
