{
 "cells": [
  {
   "cell_type": "code",
   "execution_count": 2,
   "metadata": {},
   "outputs": [],
   "source": [
    "from refactor.src.Containers.Fasta import Fasta\n",
    "from refactor.src.WriterSystem.FastaFileWriter import FastaFileWriter\n",
    "\n",
    "fasta_0 = Fasta(\"E.coli\", 'AAAAA', 'Coli_0')\n",
    "fasta_1 = Fasta(\"E.coli\", 'AAATA', 'Coli_1')\n",
    "fasta_2 = Fasta(\"E.coli\", 'AAATTT', 'Coli_2')\n",
    "\n",
    "fasta_3 = Fasta(\"E.colli\", 'GGAATTT', 'Coli_3')\n",
    "\n",
    "fileWriter = FastaFileWriter(False, 2)\n",
    "\n",
    "fileWriter.write([fasta_0, fasta_1, fasta_2, fasta_3])"
   ]
  },
  {
   "cell_type": "code",
   "execution_count": 2,
   "metadata": {},
   "outputs": [
    {
     "ename": "ImportError",
     "evalue": "cannot import name 'FastQWriter' from 'refactor.src.WriterSystem.FastQWriter' (/home/masikol/main/barapost/barapost/refactor/src/WriterSystem/FastQWriter.py)",
     "output_type": "error",
     "traceback": [
      "\u001b[0;31m---------------------------------------------------------------------------\u001b[0m",
      "\u001b[0;31mImportError\u001b[0m                               Traceback (most recent call last)",
      "Cell \u001b[0;32mIn[2], line 2\u001b[0m\n\u001b[1;32m      1\u001b[0m \u001b[38;5;28;01mfrom\u001b[39;00m \u001b[38;5;21;01mrefactor\u001b[39;00m\u001b[38;5;21;01m.\u001b[39;00m\u001b[38;5;21;01msrc\u001b[39;00m\u001b[38;5;21;01m.\u001b[39;00m\u001b[38;5;21;01mContainers\u001b[39;00m\u001b[38;5;21;01m.\u001b[39;00m\u001b[38;5;21;01mFastQ\u001b[39;00m \u001b[38;5;28;01mimport\u001b[39;00m FastQ\n\u001b[0;32m----> 2\u001b[0m \u001b[38;5;28;01mfrom\u001b[39;00m \u001b[38;5;21;01mrefactor\u001b[39;00m\u001b[38;5;21;01m.\u001b[39;00m\u001b[38;5;21;01msrc\u001b[39;00m\u001b[38;5;21;01m.\u001b[39;00m\u001b[38;5;21;01mWriterSystem\u001b[39;00m\u001b[38;5;21;01m.\u001b[39;00m\u001b[38;5;21;01mFastQWriter\u001b[39;00m \u001b[38;5;28;01mimport\u001b[39;00m FastQWriter\n\u001b[1;32m      4\u001b[0m fastq_0 \u001b[38;5;241m=\u001b[39m FastQ(\u001b[38;5;124m\"\u001b[39m\u001b[38;5;124mE.coli\u001b[39m\u001b[38;5;124m\"\u001b[39m, \u001b[38;5;124m\"\u001b[39m\u001b[38;5;124mAAAAA\u001b[39m\u001b[38;5;124m\"\u001b[39m, \u001b[38;5;124m\"\u001b[39m\u001b[38;5;124m+\u001b[39m\u001b[38;5;124m\"\u001b[39m, \u001b[38;5;124m\"\u001b[39m\u001b[38;5;124m!!!!\u001b[39m\u001b[38;5;124m\"\u001b[39m)\n\u001b[1;32m      5\u001b[0m fastq_1 \u001b[38;5;241m=\u001b[39m FastQ(\u001b[38;5;124m\"\u001b[39m\u001b[38;5;124mE.coli\u001b[39m\u001b[38;5;124m\"\u001b[39m, \u001b[38;5;124m\"\u001b[39m\u001b[38;5;124mAAATA\u001b[39m\u001b[38;5;124m\"\u001b[39m, \u001b[38;5;124m\"\u001b[39m\u001b[38;5;124m+\u001b[39m\u001b[38;5;124m\"\u001b[39m, \u001b[38;5;124m\"\u001b[39m\u001b[38;5;124m!!!!\u001b[39m\u001b[38;5;124m\"\u001b[39m)\n",
      "\u001b[0;31mImportError\u001b[0m: cannot import name 'FastQWriter' from 'refactor.src.WriterSystem.FastQWriter' (/home/masikol/main/barapost/barapost/refactor/src/WriterSystem/FastQWriter.py)"
     ]
    }
   ],
   "source": [
    "from refactor.src.Containers.FastQ import FastQ\n",
    "from refactor.src.WriterSystem.FastQWriter import FastQWriter\n",
    "\n",
    "fastq_0 = FastQ(\"E.coli\", \"AAAAA\", \"+\", \"!!!!\")\n",
    "fastq_1 = FastQ(\"E.coli\", \"AAATA\", \"+\", \"!!!!\")\n",
    "fastq_2 = FastQ(\"E.coli\", \"AAATTT\", \"+\", \"!!!!\")\n",
    "\n",
    "fastq_3 = FastQ(\"E.colli\", \"GGAATTT\", \"+\", \"!!!!\")\n",
    "\n",
    "fileWriter = FastQWriter(True, 2)\n",
    "\n",
    "fileWriter.write([fastq_0, fastq_1, fastq_2, fastq_3])"
   ]
  }
 ],
 "metadata": {
  "kernelspec": {
   "display_name": "base",
   "language": "python",
   "name": "python3"
  },
  "language_info": {
   "codemirror_mode": {
    "name": "ipython",
    "version": 3
   },
   "file_extension": ".py",
   "mimetype": "text/x-python",
   "name": "python",
   "nbconvert_exporter": "python",
   "pygments_lexer": "ipython3",
   "version": "3.11.5"
  }
 },
 "nbformat": 4,
 "nbformat_minor": 2
}
