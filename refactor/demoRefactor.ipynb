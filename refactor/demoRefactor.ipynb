{
 "cells": [
  {
   "cell_type": "code",
   "execution_count": 2,
   "metadata": {},
   "outputs": [],
   "source": [
    "import h5py\n",
    "from pod5 import DatasetReader\n",
    "import pyslow5\n",
    "\n",
    "from src.Containers.Fasta import Fasta\n",
    "from src.Containers.FastQ import FastQ\n",
    "from src.Containers.Pod5 import Pod5\n",
    "from src.Containers.Fast5 import Fast5\n",
    "from src.Containers.Blow5 import Blow5\n",
    "from src.Containers.Slow5 import Slow5\n",
    "\n",
    "from src.Containers.ClassifContainer import ClassifContainer\n",
    "from src.WriterSystem.WriterWrapper import WriterWrapper\n",
    "\n",
    "from src.ReaderSystem.ReaderWrapper import ReaderWrapper"
   ]
  },
  {
   "cell_type": "code",
   "execution_count": 8,
   "metadata": {},
   "outputs": [],
   "source": [
    "fasta_0 = ClassifContainer(Fasta('Coli_0', 'AAAAA'), 'E.coli')\n",
    "fasta_1 = ClassifContainer(Fasta('Coli_1', 'ATAAA'), 'E.coli')\n",
    "fasta_2 = ClassifContainer(Fasta('Coli_2', 'AAGAA'), 'E.coli')\n",
    "\n",
    "fasta_3 = ClassifContainer(Fasta('GGAATTT', 'Bacillus_0'), \"Bacillus\")\n",
    "\n",
    "fasta_coll = [fasta_0, fasta_1, fasta_2, fasta_3]\n",
    "\n",
    "with WriterWrapper(False, 2, 'fasta') as oww:\n",
    "    oww.write(fasta_coll)\n",
    "# end with"
   ]
  },
  {
   "cell_type": "code",
   "execution_count": 3,
   "metadata": {
    "scrolled": true
   },
   "outputs": [],
   "source": [
    "fastq_0 = ClassifContainer(FastQ(\"Coli_0\", \"AAAAA\", \"+\", \"!!!!!\"), \"E.coli\")\n",
    "fastq_1 = ClassifContainer(FastQ(\"Coli_1\", \"AAATA\", \"+\", \"!!!!!\"), \"E.coli\")\n",
    "fastq_2 = ClassifContainer(FastQ(\"Coli_2\", \"AAATTT\", \"+\", \"!!!!!!\"), \"E.coli\")\n",
    "\n",
    "fastq_3 = ClassifContainer(FastQ(\"Bacillus_0\", \"GGAATTT\", \"+\", \"!!!!!!!\"), 'B.subtilis')\n",
    "\n",
    "fastq_coll = [fastq_0, fastq_1, fastq_2, fastq_3]\n",
    "\n",
    "with WriterWrapper(False, 2, 'fastq') as oww:\n",
    "    oww.write(fastq_coll)\n",
    "# end with\n",
    "\n"
   ]
  },
  {
   "cell_type": "code",
   "execution_count": 15,
   "metadata": {},
   "outputs": [
    {
     "name": "stderr",
     "output_type": "stream",
     "text": [
      "WARNING:src.Containers.FastQ:Unexpected offset = 34! Offset was set to 33.\n"
     ]
    },
    {
     "data": {
      "text/plain": [
       "9.923583702678474"
      ]
     },
     "execution_count": 15,
     "metadata": {},
     "output_type": "execute_result"
    }
   ],
   "source": [
    "from src.Containers.FastQ import FastQ\n",
    "\n",
    "fastq = FastQ(\"Coli_0\", \"AAA\", \"+\", \"*+,\", offset = 34)\n",
    "\n",
    "fastq.average_quality()"
   ]
  },
  {
   "cell_type": "code",
   "execution_count": 2,
   "metadata": {},
   "outputs": [],
   "source": [
    "with DatasetReader(\"FAY62206_04e2939b_50079bd0_18.pod5\") as dataset:\n",
    "    reads = dataset.reads()\n",
    "\n",
    "first = next(reads)\n",
    "second = next(reads)\n",
    "third = next(reads)"
   ]
  },
  {
   "cell_type": "code",
   "execution_count": 3,
   "metadata": {},
   "outputs": [],
   "source": [
    "pod5_0 = ClassifContainer(Pod5(first), 'E.coli')\n",
    "pod5_1 = ClassifContainer(Pod5(second), 'E.coli')\n",
    "pod5_2 = ClassifContainer(Pod5(third), 'E.coli')\n",
    "\n",
    "pod5_3 = ClassifContainer(Pod5(first), \"Bacillus\")\n",
    "\n",
    "fasta_coll = [pod5_0, pod5_1, pod5_2, pod5_3]\n",
    "\n",
    "with WriterWrapper(False, 2, 'pod5') as oww:\n",
    "    oww.write(fasta_coll)\n",
    "# end with"
   ]
  },
  {
   "cell_type": "code",
   "execution_count": 14,
   "metadata": {},
   "outputs": [
    {
     "name": "stderr",
     "output_type": "stream",
     "text": [
      "WARNING:src.WriterSystem.WriterWrapper:Cannot gzip fast5 format!\n"
     ]
    }
   ],
   "source": [
    "out_file_handle = h5py.File('FAL91692_72e297f8_0.fast5', 'r')\n",
    "\n",
    "pod5_0 = ClassifContainer(Fast5(out_file_handle, 'read_00001da1-4ebb-4ce6-9128-d050d3696fcc'), 'E.coli')\n",
    "pod5_1 = ClassifContainer(Fast5(out_file_handle, 'read_000ab04f-2712-4604-87d5-2f46b6a87895'), 'E.coli')\n",
    "pod5_2 = ClassifContainer(Fast5(out_file_handle, 'read_000eb25f-b049-435f-82f6-1fee4796f0c4'), 'E.coli')\n",
    "\n",
    "pod5_3 = ClassifContainer(Fast5(out_file_handle, 'read_00001da1-4ebb-4ce6-9128-d050d3696fcc'), \"Bacillus\")\n",
    "\n",
    "fasta_coll = [pod5_0, pod5_1, pod5_2, pod5_3]\n",
    "\n",
    "with WriterWrapper(True, 2, 'fast5') as oww:\n",
    "    oww.write(fasta_coll)\n",
    "# end with\n",
    "\n",
    "out_file_handle.close()"
   ]
  },
  {
   "cell_type": "code",
   "execution_count": 5,
   "metadata": {},
   "outputs": [
    {
     "name": "stderr",
     "output_type": "stream",
     "text": [
      "[slow5_idx_init::INFO]\u001b[1;34m Index file not found. Creating an index at 'FAY62206_04e2939b_50079bd0_18.blow5.idx'.\u001b[0m\n"
     ]
    }
   ],
   "source": [
    "s5 = pyslow5.Open('FAY62206_04e2939b_50079bd0_18.blow5', 'r')\n",
    "\n",
    "# print(s5.get_read_ids())\n",
    "\n",
    "first = s5.get_read('c018e0f4-2cf9-4b36-8961-751cc03d8dd5')\n",
    "second = s5.get_read('0082f3c8-8b36-443b-a50a-064918f7e871')\n",
    "third = s5.get_read('34f2315d-1dfc-43cb-a772-c348ab46aa59')\n",
    "\n",
    "fasta_0 = ClassifContainer(Blow5(first), 'E.coli')\n",
    "fasta_1 = ClassifContainer(Blow5(second), 'E.coli')\n",
    "fasta_2 = ClassifContainer(Blow5(third), 'E.coli')\n",
    "\n",
    "fasta_3 = ClassifContainer(Blow5(third), \"Bacillus\")\n",
    "\n",
    "fasta_coll = [fasta_0, fasta_1, fasta_2, fasta_3]\n",
    "\n",
    "with WriterWrapper(False, 2, 'blow5') as oww:\n",
    "    oww.write(fasta_coll)\n",
    "# end with\n",
    "\n",
    "s5.close()"
   ]
  },
  {
   "cell_type": "code",
   "execution_count": 6,
   "metadata": {},
   "outputs": [],
   "source": [
    "s5 = pyslow5.Open('FAY62206_04e2939b_50079bd0_18.slow5', 'r')\n",
    "\n",
    "# print(s5.get_read_ids())\n",
    "\n",
    "first = s5.get_read('c018e0f4-2cf9-4b36-8961-751cc03d8dd5')\n",
    "second = s5.get_read('0082f3c8-8b36-443b-a50a-064918f7e871')\n",
    "third = s5.get_read('34f2315d-1dfc-43cb-a772-c348ab46aa59')\n",
    "\n",
    "fasta_0 = ClassifContainer(Slow5(first), 'E.coli')\n",
    "fasta_1 = ClassifContainer(Slow5(second), 'E.coli')\n",
    "fasta_2 = ClassifContainer(Slow5(third), 'E.coli')\n",
    "\n",
    "fasta_3 = ClassifContainer(Slow5(third), \"Bacillus\")\n",
    "\n",
    "fasta_coll = [fasta_0, fasta_1, fasta_2, fasta_3]\n",
    "\n",
    "with WriterWrapper(False, 2, 'slow5') as oww:\n",
    "    oww.write(fasta_coll)\n",
    "# end with\n",
    "\n",
    "s5.close()"
   ]
  },
  {
   "cell_type": "code",
   "execution_count": 12,
   "metadata": {},
   "outputs": [
    {
     "name": "stdout",
     "output_type": "stream",
     "text": [
      "[Fasta(header='>U00096.3_segment_0', sequence='AAAAAAAAAA'), Fasta(header='>U00096.3_segment_0_0_0', sequence='AAAAAAAAAA'), Fasta(header='>U00096.3_segment_0_0_1', sequence='AAAAAAAAAA'), Fasta(header='>U00096.3_segment_0_0_2', sequence='AAAAAAAAAA')]\n",
      "[Fasta(header='>U00096.3_segment_0_0_3', sequence='AAAAAAAAAA'), Fasta(header='>U00096.3_segment_0_0_4', sequence='AAAAAAAAAA'), Fasta(header='>U00096.3_segment_0_0_5', sequence='AAAAAAAAAA'), Fasta(header='>U00096.3_segment_0_0', sequence='AGCTTTTC')]\n",
      "[Fasta(header='>U00096.3_segment_0_1', sequence='AGCTTTTCATTCTGAC'), Fasta(header='>U00096.3_segment_0_2', sequence='AGCT')]\n"
     ]
    }
   ],
   "source": [
    "try:\n",
    "    with ReaderWrapper('test.fasta', \n",
    "                       packet_size = 20, \n",
    "                       probing_packet_size = 10,\n",
    "                       mode = 'sum_seq_len',\n",
    "                       max_seq_len = 6) as f:\n",
    "        while True:\n",
    "            print(next(f))\n",
    "        # end while\n",
    "    # end with\n",
    "except StopIteration:\n",
    "    pass\n",
    "# end try"
   ]
  },
  {
   "cell_type": "code",
   "execution_count": null,
   "metadata": {},
   "outputs": [],
   "source": []
  }
 ],
 "metadata": {
  "kernelspec": {
   "display_name": "Python 3",
   "language": "python",
   "name": "python3"
  },
  "language_info": {
   "codemirror_mode": {
    "name": "ipython",
    "version": 3
   },
   "file_extension": ".py",
   "mimetype": "text/x-python",
   "name": "python",
   "nbconvert_exporter": "python",
   "pygments_lexer": "ipython3",
   "version": "3.10.12"
  }
 },
 "nbformat": 4,
 "nbformat_minor": 2
}
