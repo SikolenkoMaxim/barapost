{
 "cells": [
  {
   "cell_type": "code",
   "execution_count": 1,
   "metadata": {},
   "outputs": [],
   "source": [
    "from pod5 import DatasetReader\n",
    "\n",
    "from src.Containers.Fasta import Fasta\n",
    "from src.Containers.FastQ import FastQ\n",
    "from src.Containers.Pod5 import Pod5\n",
    "\n",
    "from src.Containers.ClassifContainer import ClassifContainer\n",
    "from src.WriterSystem.WriterWrapper import WriterWrapper"
   ]
  },
  {
   "cell_type": "code",
   "execution_count": 4,
   "metadata": {},
   "outputs": [],
   "source": [
    "fasta_0 = ClassifContainer(Fasta('Coli_0', 'AAAAA'), 'E.coli')\n",
    "fasta_1 = ClassifContainer(Fasta('Coli_1', 'ATAAA'), 'E.coli')\n",
    "fasta_2 = ClassifContainer(Fasta('Coli_2', 'AAGAA'), 'E.coli')\n",
    "\n",
    "fasta_3 = ClassifContainer(Fasta('GGAATTT', 'Bacillus_0'), \"Bacillus\")\n",
    "\n",
    "fasta_coll = [fasta_0, fasta_1, fasta_2, fasta_3]\n",
    "\n",
    "with WriterWrapper(False, 2, 'fasta') as oww:\n",
    "    oww.write(fasta_coll)\n",
    "# end with"
   ]
  },
  {
   "cell_type": "code",
   "execution_count": 3,
   "metadata": {
    "scrolled": true
   },
   "outputs": [],
   "source": [
    "fastq_0 = ClassifContainer(FastQ(\"Coli_0\", \"AAAAA\", \"+\", \"!!!!!\"), \"E.coli\")\n",
    "fastq_1 = ClassifContainer(FastQ(\"Coli_1\", \"AAATA\", \"+\", \"!!!!!\"), \"E.coli\")\n",
    "fastq_2 = ClassifContainer(FastQ(\"Coli_2\", \"AAATTT\", \"+\", \"!!!!!!\"), \"E.coli\")\n",
    "\n",
    "fastq_3 = ClassifContainer(FastQ(\"Bacillus_0\", \"GGAATTT\", \"+\", \"!!!!!!!\"), 'B.subtilis')\n",
    "\n",
    "fastq_coll = [fastq_0, fastq_1, fastq_2, fastq_3]\n",
    "\n",
    "with WriterWrapper(False, 2, 'fastq') as oww:\n",
    "    oww.write(fastq_coll)\n",
    "# end with\n",
    "\n"
   ]
  },
  {
   "cell_type": "code",
   "execution_count": 7,
   "metadata": {},
   "outputs": [
    {
     "data": {
      "text/plain": [
       "9.923583702678474"
      ]
     },
     "execution_count": 7,
     "metadata": {},
     "output_type": "execute_result"
    }
   ],
   "source": [
    "from src.Containers.FastQ import FastQ\n",
    "\n",
    "fastq = FastQ(\"Coli_0\", \"AAA\", \"+\", \"*+,\")\n",
    "\n",
    "fastq.average_quality()"
   ]
  },
  {
   "cell_type": "code",
   "execution_count": 2,
   "metadata": {},
   "outputs": [],
   "source": [
    "with DatasetReader(\"FAY62206_04e2939b_50079bd0_18.pod5\") as dataset:\n",
    "    reads = dataset.reads()\n",
    "\n",
    "first = next(reads)\n",
    "second = next(reads)\n",
    "third = next(reads)"
   ]
  },
  {
   "cell_type": "code",
   "execution_count": 3,
   "metadata": {},
   "outputs": [
    {
     "name": "stdout",
     "output_type": "stream",
     "text": [
      "2 pod5 pod5\n"
     ]
    },
    {
     "ename": "TypeError",
     "evalue": "FileWriter.__init__() got multiple values for argument '_gzip_'",
     "output_type": "error",
     "traceback": [
      "\u001b[0;31m---------------------------------------------------------------------------\u001b[0m",
      "\u001b[0;31mTypeError\u001b[0m                                 Traceback (most recent call last)",
      "Cell \u001b[0;32mIn[3], line 9\u001b[0m\n\u001b[1;32m      5\u001b[0m pod5_3 \u001b[38;5;241m=\u001b[39m ClassifContainer(Pod5(first), \u001b[38;5;124m\"\u001b[39m\u001b[38;5;124mBacillus\u001b[39m\u001b[38;5;124m\"\u001b[39m)\n\u001b[1;32m      7\u001b[0m fasta_coll \u001b[38;5;241m=\u001b[39m [pod5_0, pod5_1, pod5_2, pod5_3]\n\u001b[0;32m----> 9\u001b[0m \u001b[38;5;28;01mwith\u001b[39;00m WriterWrapper(\u001b[38;5;28;01mFalse\u001b[39;00m, \u001b[38;5;241m2\u001b[39m, \u001b[38;5;124m'\u001b[39m\u001b[38;5;124mpod5\u001b[39m\u001b[38;5;124m'\u001b[39m) \u001b[38;5;28;01mas\u001b[39;00m oww:\n\u001b[1;32m     10\u001b[0m     oww\u001b[38;5;241m.\u001b[39mwrite(fasta_coll)\n",
      "File \u001b[0;32m~/main/barapost/barapost/refactor/src/WriterSystem/WriterWrapper.py:15\u001b[0m, in \u001b[0;36mWriterWrapper.__init__\u001b[0;34m(self, _gzip_, n_max_out, _type_)\u001b[0m\n\u001b[1;32m     13\u001b[0m     \u001b[38;5;28mself\u001b[39m\u001b[38;5;241m.\u001b[39mwriter \u001b[38;5;241m=\u001b[39m FastQWriter(_gzip_, n_max_out, \u001b[38;5;124m'\u001b[39m\u001b[38;5;124mfastq\u001b[39m\u001b[38;5;124m'\u001b[39m)\n\u001b[1;32m     14\u001b[0m \u001b[38;5;28;01melif\u001b[39;00m _type_ \u001b[38;5;241m==\u001b[39m \u001b[38;5;124m'\u001b[39m\u001b[38;5;124mpod5\u001b[39m\u001b[38;5;124m'\u001b[39m:\n\u001b[0;32m---> 15\u001b[0m     \u001b[38;5;28mself\u001b[39m\u001b[38;5;241m.\u001b[39mwriter \u001b[38;5;241m=\u001b[39m Pod5Writer(n_max_out, \u001b[38;5;124m'\u001b[39m\u001b[38;5;124mpod5\u001b[39m\u001b[38;5;124m'\u001b[39m)\n\u001b[1;32m     16\u001b[0m \u001b[38;5;28;01melse\u001b[39;00m:\n\u001b[1;32m     17\u001b[0m     \u001b[38;5;28;01mraise\u001b[39;00m \u001b[38;5;167;01mValueError\u001b[39;00m(\n\u001b[1;32m     18\u001b[0m         \u001b[38;5;124mf\u001b[39m\u001b[38;5;124m'\u001b[39m\u001b[38;5;124mInvalid file type. Use fasta or fastq instead of \u001b[39m\u001b[38;5;132;01m{\u001b[39;00m_type_\u001b[38;5;132;01m}\u001b[39;00m\u001b[38;5;124m.\u001b[39m\u001b[38;5;124m'\u001b[39m\n\u001b[1;32m     19\u001b[0m     )\n",
      "File \u001b[0;32m~/main/barapost/barapost/refactor/src/WriterSystem/Pod5Writer.py:31\u001b[0m, in \u001b[0;36mPod5Writer.__init__\u001b[0;34m(self, _gzip_, n_max_out, ext)\u001b[0m\n\u001b[1;32m     28\u001b[0m \u001b[38;5;28;01mdef\u001b[39;00m \u001b[38;5;21m__init__\u001b[39m(\u001b[38;5;28mself\u001b[39m, _gzip_: \u001b[38;5;28mbool\u001b[39m, n_max_out: \u001b[38;5;28mint\u001b[39m, ext \u001b[38;5;241m=\u001b[39m \u001b[38;5;124m'\u001b[39m\u001b[38;5;124mpod5\u001b[39m\u001b[38;5;124m'\u001b[39m):\n\u001b[1;32m     29\u001b[0m     \u001b[38;5;28mprint\u001b[39m(_gzip_, n_max_out, ext)\n\u001b[0;32m---> 31\u001b[0m     \u001b[38;5;28msuper\u001b[39m()\u001b[38;5;241m.\u001b[39m\u001b[38;5;21m__init__\u001b[39m(\u001b[38;5;28mself\u001b[39m, _gzip_\u001b[38;5;241m=\u001b[39m_gzip_, n_max_out\u001b[38;5;241m=\u001b[39mn_max_out, ext\u001b[38;5;241m=\u001b[39mext)\n\u001b[1;32m     32\u001b[0m     \u001b[38;5;28mself\u001b[39m\u001b[38;5;241m.\u001b[39m_gzip_ \u001b[38;5;241m=\u001b[39m \u001b[38;5;28;01mFalse\u001b[39;00m\n\u001b[1;32m     33\u001b[0m     \u001b[38;5;28mself\u001b[39m\u001b[38;5;241m.\u001b[39mn_max_out \u001b[38;5;241m=\u001b[39m n_max_out\n",
      "\u001b[0;31mTypeError\u001b[0m: FileWriter.__init__() got multiple values for argument '_gzip_'"
     ]
    }
   ],
   "source": [
    "pod5_0 = ClassifContainer(Pod5(first), 'E.coli')\n",
    "pod5_1 = ClassifContainer(Pod5(second), 'E.coli')\n",
    "pod5_2 = ClassifContainer(Pod5(third), 'E.coli')\n",
    "\n",
    "pod5_3 = ClassifContainer(Pod5(first), \"Bacillus\")\n",
    "\n",
    "fasta_coll = [pod5_0, pod5_1, pod5_2, pod5_3]\n",
    "\n",
    "with WriterWrapper(False, 2, 'pod5') as oww:\n",
    "    oww.write(fasta_coll)\n",
    "# end with"
   ]
  },
  {
   "cell_type": "code",
   "execution_count": null,
   "metadata": {},
   "outputs": [],
   "source": []
  }
 ],
 "metadata": {
  "kernelspec": {
   "display_name": "Python 3",
   "language": "python",
   "name": "python3"
  },
  "language_info": {
   "codemirror_mode": {
    "name": "ipython",
    "version": 3
   },
   "file_extension": ".py",
   "mimetype": "text/x-python",
   "name": "python",
   "nbconvert_exporter": "python",
   "pygments_lexer": "ipython3",
   "version": "3.11.5"
  }
 },
 "nbformat": 4,
 "nbformat_minor": 2
}
