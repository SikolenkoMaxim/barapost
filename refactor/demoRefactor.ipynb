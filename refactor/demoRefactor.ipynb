{
 "cells": [
  {
   "cell_type": "code",
   "execution_count": 1,
   "metadata": {},
   "outputs": [],
   "source": [
    "from pod5 import DatasetReader\n",
    "\n",
    "from src.Containers.Fasta import Fasta\n",
    "from src.Containers.FastQ import FastQ\n",
    "from src.Containers.Pod5 import Pod5\n",
    "\n",
    "from src.Containers.ClassifContainer import ClassifContainer\n",
    "from src.WriterSystem.WriterWrapper import WriterWrapper"
   ]
  },
  {
   "cell_type": "code",
   "execution_count": 4,
   "metadata": {},
   "outputs": [],
   "source": [
    "fasta_0 = ClassifContainer(Fasta('Coli_0', 'AAAAA'), 'E.coli')\n",
    "fasta_1 = ClassifContainer(Fasta('Coli_1', 'ATAAA'), 'E.coli')\n",
    "fasta_2 = ClassifContainer(Fasta('Coli_2', 'AAGAA'), 'E.coli')\n",
    "\n",
    "fasta_3 = ClassifContainer(Fasta('GGAATTT', 'Bacillus_0'), \"Bacillus\")\n",
    "\n",
    "fasta_coll = [fasta_0, fasta_1, fasta_2, fasta_3]\n",
    "\n",
    "with WriterWrapper(False, 2, 'fasta') as oww:\n",
    "    oww.write(fasta_coll)\n",
    "# end with"
   ]
  },
  {
   "cell_type": "code",
   "execution_count": 3,
   "metadata": {
    "scrolled": true
   },
   "outputs": [],
   "source": [
    "fastq_0 = ClassifContainer(FastQ(\"Coli_0\", \"AAAAA\", \"+\", \"!!!!!\"), \"E.coli\")\n",
    "fastq_1 = ClassifContainer(FastQ(\"Coli_1\", \"AAATA\", \"+\", \"!!!!!\"), \"E.coli\")\n",
    "fastq_2 = ClassifContainer(FastQ(\"Coli_2\", \"AAATTT\", \"+\", \"!!!!!!\"), \"E.coli\")\n",
    "\n",
    "fastq_3 = ClassifContainer(FastQ(\"Bacillus_0\", \"GGAATTT\", \"+\", \"!!!!!!!\"), 'B.subtilis')\n",
    "\n",
    "fastq_coll = [fastq_0, fastq_1, fastq_2, fastq_3]\n",
    "\n",
    "with WriterWrapper(False, 2, 'fastq') as oww:\n",
    "    oww.write(fastq_coll)\n",
    "# end with\n",
    "\n"
   ]
  },
  {
   "cell_type": "code",
   "execution_count": 7,
   "metadata": {},
   "outputs": [
    {
     "data": {
      "text/plain": [
       "9.923583702678474"
      ]
     },
     "execution_count": 7,
     "metadata": {},
     "output_type": "execute_result"
    }
   ],
   "source": [
    "from src.Containers.FastQ import FastQ\n",
    "\n",
    "fastq = FastQ(\"Coli_0\", \"AAA\", \"+\", \"*+,\")\n",
    "\n",
    "fastq.average_quality()"
   ]
  },
  {
   "cell_type": "code",
   "execution_count": 2,
   "metadata": {},
   "outputs": [],
   "source": [
    "with DatasetReader(\"FAY62206_04e2939b_50079bd0_18.pod5\") as dataset:\n",
    "    reads = dataset.reads()\n",
    "\n",
    "first = next(reads)\n",
    "second = next(reads)\n",
    "third = next(reads)"
   ]
  },
  {
   "cell_type": "code",
   "execution_count": 3,
   "metadata": {},
   "outputs": [],
   "source": [
    "pod5_0 = ClassifContainer(Pod5(first), 'E.coli')\n",
    "pod5_1 = ClassifContainer(Pod5(second), 'E.coli')\n",
    "pod5_2 = ClassifContainer(Pod5(third), 'E.coli')\n",
    "\n",
    "pod5_3 = ClassifContainer(Pod5(first), \"Bacillus\")\n",
    "\n",
    "fasta_coll = [pod5_0, pod5_1, pod5_2, pod5_3]\n",
    "\n",
    "with WriterWrapper(False, 2, 'pod5') as oww:\n",
    "    oww.write(fasta_coll)\n",
    "# end with"
   ]
  },
  {
   "cell_type": "code",
   "execution_count": null,
   "metadata": {},
   "outputs": [],
   "source": []
  }
 ],
 "metadata": {
  "kernelspec": {
   "display_name": "Python 3",
   "language": "python",
   "name": "python3"
  },
  "language_info": {
   "codemirror_mode": {
    "name": "ipython",
    "version": 3
   },
   "file_extension": ".py",
   "mimetype": "text/x-python",
   "name": "python",
   "nbconvert_exporter": "python",
   "pygments_lexer": "ipython3",
   "version": "3.11.5"
  }
 },
 "nbformat": 4,
 "nbformat_minor": 2
}
