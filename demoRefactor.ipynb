{
 "cells": [
  {
   "cell_type": "code",
   "execution_count": 2,
   "metadata": {},
   "outputs": [],
   "source": [
    "from refactor.src.Containers.Fasta import Fasta\n",
    "from refactor.src.Containers.FileContainer import FileContainer\n",
    "from refactor.src.WriterSystem.FastaFileWriter import FastaFileWriter\n",
    "\n",
    "fasta_0 = FileContainer(Fasta('AAAAA', 'Coli_0'), 'E.coli')\n",
    "fasta_1 = FileContainer(Fasta('ATAAA', 'Coli_1'), 'E.coli')\n",
    "fasta_2 = FileContainer(Fasta('AAGAA', 'Coli_2'), 'E.coli')\n",
    "\n",
    "fasta_3 = FileContainer(Fasta('GGAATTT', 'Coli_3'), \"E.colli\")\n",
    "\n",
    "fileWriter = FastaFileWriter(False, 2)\n",
    "\n",
    "fileWriter.write([fasta_0, fasta_1, fasta_2, fasta_3])"
   ]
  },
  {
   "cell_type": "code",
   "execution_count": 3,
   "metadata": {},
   "outputs": [],
   "source": [
    "from refactor.src.Containers.FastQ import FastQ\n",
    "from refactor.src.WriterSystem.FastQWriter import FastQWriter\n",
    "\n",
    "fastq_0 = FileContainer(FastQ(\"Coli_0\", \"AAAAA\", \"+\", \"!!!!\"), \"E.coli\")\n",
    "fastq_1 = FileContainer(FastQ(\"Coli_1\", \"AAATA\", \"+\", \"!!!!\"),\"E.coli\")\n",
    "fastq_2 = FileContainer(FastQ(\"Coli_2\", \"AAATTT\", \"+\", \"!!!!\"), \"E.coli\")\n",
    "\n",
    "fastq_3 = FileContainer(FastQ(\"Coli_3\", \"GGAATTT\", \"+\", \"!!!!\"), 'Coli')\n",
    "\n",
    "fileWriter = FastQWriter(False, 2)\n",
    "\n",
    "fileWriter.write([fastq_0, fastq_1, fastq_2, fastq_3])"
   ]
  }
 ],
 "metadata": {
  "kernelspec": {
   "display_name": "base",
   "language": "python",
   "name": "python3"
  },
  "language_info": {
   "codemirror_mode": {
    "name": "ipython",
    "version": 3
   },
   "file_extension": ".py",
   "mimetype": "text/x-python",
   "name": "python",
   "nbconvert_exporter": "python",
   "pygments_lexer": "ipython3",
   "version": "3.11.5"
  }
 },
 "nbformat": 4,
 "nbformat_minor": 2
}
